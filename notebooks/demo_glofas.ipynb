{
 "cells": [
  {
   "cell_type": "code",
   "execution_count": 9,
   "id": "quality-checkout",
   "metadata": {},
   "outputs": [
    {
     "name": "stdout",
     "output_type": "stream",
     "text": [
      "Requirement already satisfied: climetlab_cems_flood==0.0.5 in /home/iff/development/climetlab-cems-flood (0.0.5)\n",
      "Requirement already satisfied: climetlab>=0.5.6 in /home/iff/development/climetlab-cems-flood/.venv/lib/python3.8/site-packages (from climetlab_cems_flood==0.0.5) (0.6.0)\n",
      "Requirement already satisfied: cfgrib>=0.9.8.4 in /home/iff/development/climetlab-cems-flood/.venv/lib/python3.8/site-packages (from climetlab>=0.5.6->climetlab_cems_flood==0.0.5) (0.9.9.0)\n",
      "Requirement already satisfied: requests in /home/iff/development/climetlab-cems-flood/.venv/lib/python3.8/site-packages (from climetlab>=0.5.6->climetlab_cems_flood==0.0.5) (2.25.1)\n",
      "Requirement already satisfied: magics>=1.5.6 in /home/iff/development/climetlab-cems-flood/.venv/lib/python3.8/site-packages (from climetlab>=0.5.6->climetlab_cems_flood==0.0.5) (1.5.6)\n",
      "Requirement already satisfied: ecmwf-api-client>=1.6.1 in /home/iff/development/climetlab-cems-flood/.venv/lib/python3.8/site-packages (from climetlab>=0.5.6->climetlab_cems_flood==0.0.5) (1.6.1)\n",
      "Requirement already satisfied: entrypoints in /home/iff/development/climetlab-cems-flood/.venv/lib/python3.8/site-packages (from climetlab>=0.5.6->climetlab_cems_flood==0.0.5) (0.3)\n",
      "Requirement already satisfied: cdsapi in /home/iff/development/climetlab-cems-flood/.venv/lib/python3.8/site-packages (from climetlab>=0.5.6->climetlab_cems_flood==0.0.5) (0.5.1)\n",
      "Requirement already satisfied: numpy in /home/iff/development/climetlab-cems-flood/.venv/lib/python3.8/site-packages (from climetlab>=0.5.6->climetlab_cems_flood==0.0.5) (1.20.3)\n",
      "Requirement already satisfied: branca==0.3.1 in /home/iff/development/climetlab-cems-flood/.venv/lib/python3.8/site-packages (from climetlab>=0.5.6->climetlab_cems_flood==0.0.5) (0.3.1)\n",
      "Requirement already satisfied: pyyaml in /home/iff/development/climetlab-cems-flood/.venv/lib/python3.8/site-packages (from climetlab>=0.5.6->climetlab_cems_flood==0.0.5) (5.4.1)\n",
      "Requirement already satisfied: markdown in /home/iff/development/climetlab-cems-flood/.venv/lib/python3.8/site-packages (from climetlab>=0.5.6->climetlab_cems_flood==0.0.5) (3.3.4)\n",
      "Requirement already satisfied: folium>=0.12.1 in /home/iff/development/climetlab-cems-flood/.venv/lib/python3.8/site-packages (from climetlab>=0.5.6->climetlab_cems_flood==0.0.5) (0.12.1)\n",
      "Requirement already satisfied: ecmwflibs>=0.1.2 in /home/iff/development/climetlab-cems-flood/.venv/lib/python3.8/site-packages (from climetlab>=0.5.6->climetlab_cems_flood==0.0.5) (0.3.7)\n",
      "Requirement already satisfied: pandas in /home/iff/development/climetlab-cems-flood/.venv/lib/python3.8/site-packages (from climetlab>=0.5.6->climetlab_cems_flood==0.0.5) (1.2.4)\n",
      "Requirement already satisfied: dask in /home/iff/development/climetlab-cems-flood/.venv/lib/python3.8/site-packages (from climetlab>=0.5.6->climetlab_cems_flood==0.0.5) (2021.5.0)\n",
      "Requirement already satisfied: tqdm in /home/iff/development/climetlab-cems-flood/.venv/lib/python3.8/site-packages (from climetlab>=0.5.6->climetlab_cems_flood==0.0.5) (4.60.0)\n",
      "Requirement already satisfied: netcdf4 in /home/iff/development/climetlab-cems-flood/.venv/lib/python3.8/site-packages (from climetlab>=0.5.6->climetlab_cems_flood==0.0.5) (1.5.6)\n",
      "Requirement already satisfied: xarray>=0.17.0 in /home/iff/development/climetlab-cems-flood/.venv/lib/python3.8/site-packages (from climetlab>=0.5.6->climetlab_cems_flood==0.0.5) (0.18.0)\n",
      "Requirement already satisfied: eccodes>=0.9.9 in /home/iff/development/climetlab-cems-flood/.venv/lib/python3.8/site-packages (from climetlab>=0.5.6->climetlab_cems_flood==0.0.5) (1.3.2)\n",
      "Requirement already satisfied: toolz in /home/iff/development/climetlab-cems-flood/.venv/lib/python3.8/site-packages (from climetlab>=0.5.6->climetlab_cems_flood==0.0.5) (0.11.1)\n",
      "Requirement already satisfied: pyodc in /home/iff/development/climetlab-cems-flood/.venv/lib/python3.8/site-packages (from climetlab>=0.5.6->climetlab_cems_flood==0.0.5) (1.0.3)\n",
      "Requirement already satisfied: pdbufr in /home/iff/development/climetlab-cems-flood/.venv/lib/python3.8/site-packages (from climetlab>=0.5.6->climetlab_cems_flood==0.0.5) (0.8.2)\n",
      "Requirement already satisfied: click in /home/iff/development/climetlab-cems-flood/.venv/lib/python3.8/site-packages (from cfgrib>=0.9.8.4->climetlab>=0.5.6->climetlab_cems_flood==0.0.5) (8.0.0)\n",
      "Requirement already satisfied: attrs>=19.2 in /home/iff/development/climetlab-cems-flood/.venv/lib/python3.8/site-packages (from cfgrib>=0.9.8.4->climetlab>=0.5.6->climetlab_cems_flood==0.0.5) (21.2.0)\n",
      "Requirement already satisfied: urllib3<1.27,>=1.21.1 in /home/iff/development/climetlab-cems-flood/.venv/lib/python3.8/site-packages (from requests->climetlab>=0.5.6->climetlab_cems_flood==0.0.5) (1.26.4)\n",
      "Requirement already satisfied: idna<3,>=2.5 in /home/iff/development/climetlab-cems-flood/.venv/lib/python3.8/site-packages (from requests->climetlab>=0.5.6->climetlab_cems_flood==0.0.5) (2.10)\n",
      "Requirement already satisfied: certifi>=2017.4.17 in /home/iff/development/climetlab-cems-flood/.venv/lib/python3.8/site-packages (from requests->climetlab>=0.5.6->climetlab_cems_flood==0.0.5) (2020.12.5)\n",
      "Requirement already satisfied: chardet<5,>=3.0.2 in /home/iff/development/climetlab-cems-flood/.venv/lib/python3.8/site-packages (from requests->climetlab>=0.5.6->climetlab_cems_flood==0.0.5) (4.0.0)\n",
      "Requirement already satisfied: six in /home/iff/development/climetlab-cems-flood/.venv/lib/python3.8/site-packages (from branca==0.3.1->climetlab>=0.5.6->climetlab_cems_flood==0.0.5) (1.16.0)\n",
      "Requirement already satisfied: jinja2 in /home/iff/development/climetlab-cems-flood/.venv/lib/python3.8/site-packages (from branca==0.3.1->climetlab>=0.5.6->climetlab_cems_flood==0.0.5) (3.0.0)\n",
      "Requirement already satisfied: findlibs in /home/iff/development/climetlab-cems-flood/.venv/lib/python3.8/site-packages (from ecmwflibs>=0.1.2->climetlab>=0.5.6->climetlab_cems_flood==0.0.5) (0.0.1)\n",
      "Requirement already satisfied: python-dateutil>=2.7.3 in /home/iff/development/climetlab-cems-flood/.venv/lib/python3.8/site-packages (from pandas->climetlab>=0.5.6->climetlab_cems_flood==0.0.5) (2.8.1)\n",
      "Requirement already satisfied: pytz>=2017.3 in /home/iff/development/climetlab-cems-flood/.venv/lib/python3.8/site-packages (from pandas->climetlab>=0.5.6->climetlab_cems_flood==0.0.5) (2021.1)\n",
      "Requirement already satisfied: fsspec>=0.6.0 in /home/iff/development/climetlab-cems-flood/.venv/lib/python3.8/site-packages (from dask->climetlab>=0.5.6->climetlab_cems_flood==0.0.5) (2021.5.0)\n",
      "Requirement already satisfied: cloudpickle>=1.1.1 in /home/iff/development/climetlab-cems-flood/.venv/lib/python3.8/site-packages (from dask->climetlab>=0.5.6->climetlab_cems_flood==0.0.5) (1.6.0)\n",
      "Requirement already satisfied: partd>=0.3.10 in /home/iff/development/climetlab-cems-flood/.venv/lib/python3.8/site-packages (from dask->climetlab>=0.5.6->climetlab_cems_flood==0.0.5) (1.2.0)\n",
      "Requirement already satisfied: cftime in /home/iff/development/climetlab-cems-flood/.venv/lib/python3.8/site-packages (from netcdf4->climetlab>=0.5.6->climetlab_cems_flood==0.0.5) (1.4.1)\n",
      "Requirement already satisfied: setuptools>=40.4 in /home/iff/development/climetlab-cems-flood/.venv/lib/python3.8/site-packages (from xarray>=0.17.0->climetlab>=0.5.6->climetlab_cems_flood==0.0.5) (44.0.0)\n",
      "Requirement already satisfied: cffi in /home/iff/development/climetlab-cems-flood/.venv/lib/python3.8/site-packages (from eccodes>=0.9.9->climetlab>=0.5.6->climetlab_cems_flood==0.0.5) (1.14.5)\n",
      "Requirement already satisfied: MarkupSafe>=2.0.0rc2 in /home/iff/development/climetlab-cems-flood/.venv/lib/python3.8/site-packages (from jinja2->branca==0.3.1->climetlab>=0.5.6->climetlab_cems_flood==0.0.5) (2.0.0)\n",
      "Requirement already satisfied: locket in /home/iff/development/climetlab-cems-flood/.venv/lib/python3.8/site-packages (from partd>=0.3.10->dask->climetlab>=0.5.6->climetlab_cems_flood==0.0.5) (0.2.1)\n",
      "Requirement already satisfied: pycparser in /home/iff/development/climetlab-cems-flood/.venv/lib/python3.8/site-packages (from cffi->eccodes>=0.9.9->climetlab>=0.5.6->climetlab_cems_flood==0.0.5) (2.20)\n"
     ]
    }
   ],
   "source": [
    "#!pip install climetlab\n",
    "!pip install climetlab_cems_flood==0.0.5"
   ]
  },
  {
   "cell_type": "code",
   "execution_count": 10,
   "id": "harmful-hungary",
   "metadata": {},
   "outputs": [],
   "source": [
    "import climetlab as cml\n",
    "import climetlab_cems_flood as cems"
   ]
  },
  {
   "cell_type": "code",
   "execution_count": 12,
   "id": "comprehensive-environment",
   "metadata": {},
   "outputs": [
    {
     "data": {
      "text/plain": [
       "'0.0.5'"
      ]
     },
     "execution_count": 12,
     "metadata": {},
     "output_type": "execute_result"
    }
   ],
   "source": [
    "cems.__version__"
   ]
  },
  {
   "cell_type": "code",
   "execution_count": 12,
   "id": "widespread-prompt",
   "metadata": {},
   "outputs": [
    {
     "ename": "ModuleNotFoundError",
     "evalue": "No module named 'climetlab_cems_flood.glofas_forecast'",
     "output_type": "error",
     "traceback": [
      "\u001b[0;31m---------------------------------------------------------------------------\u001b[0m",
      "\u001b[0;31mModuleNotFoundError\u001b[0m                       Traceback (most recent call last)",
      "\u001b[0;32m<ipython-input-12-c5499fee36a5>\u001b[0m in \u001b[0;36m<module>\u001b[0;34m\u001b[0m\n\u001b[0;32m----> 1\u001b[0;31m cmlds = cml.load_dataset(\n\u001b[0m\u001b[1;32m      2\u001b[0m         \u001b[0;34m'cems-flood-glofas-forecast'\u001b[0m\u001b[0;34m,\u001b[0m\u001b[0;34m\u001b[0m\u001b[0;34m\u001b[0m\u001b[0m\n\u001b[1;32m      3\u001b[0m         \u001b[0myear\u001b[0m\u001b[0;34m=\u001b[0m\u001b[0;34m'2021'\u001b[0m\u001b[0;34m,\u001b[0m\u001b[0;34m\u001b[0m\u001b[0;34m\u001b[0m\u001b[0m\n\u001b[1;32m      4\u001b[0m         \u001b[0mparameter\u001b[0m\u001b[0;34m=\u001b[0m\u001b[0;34m't2m'\u001b[0m\u001b[0;34m\u001b[0m\u001b[0;34m\u001b[0m\u001b[0m\n\u001b[1;32m      5\u001b[0m     )\n",
      "\u001b[0;32m/perm/ma/maif/.local/.pyenv/versions/climetlab/lib/python3.8/site-packages/climetlab/datasets/__init__.py\u001b[0m in \u001b[0;36mload_dataset\u001b[0;34m(name, *args, **kwargs)\u001b[0m\n\u001b[1;32m    170\u001b[0m \u001b[0;32mdef\u001b[0m \u001b[0mload_dataset\u001b[0m\u001b[0;34m(\u001b[0m\u001b[0mname\u001b[0m\u001b[0;34m,\u001b[0m \u001b[0;34m*\u001b[0m\u001b[0margs\u001b[0m\u001b[0;34m,\u001b[0m \u001b[0;34m**\u001b[0m\u001b[0mkwargs\u001b[0m\u001b[0;34m)\u001b[0m\u001b[0;34m:\u001b[0m\u001b[0;34m\u001b[0m\u001b[0;34m\u001b[0m\u001b[0m\n\u001b[1;32m    171\u001b[0m \u001b[0;34m\u001b[0m\u001b[0m\n\u001b[0;32m--> 172\u001b[0;31m     \u001b[0mds\u001b[0m\u001b[0;34m,\u001b[0m \u001b[0margs\u001b[0m\u001b[0;34m,\u001b[0m \u001b[0mkwargs\u001b[0m \u001b[0;34m=\u001b[0m \u001b[0mdataset\u001b[0m\u001b[0;34m.\u001b[0m\u001b[0mlookup\u001b[0m\u001b[0;34m(\u001b[0m\u001b[0mname\u001b[0m\u001b[0;34m,\u001b[0m \u001b[0;34m*\u001b[0m\u001b[0margs\u001b[0m\u001b[0;34m,\u001b[0m \u001b[0;34m**\u001b[0m\u001b[0mkwargs\u001b[0m\u001b[0;34m)\u001b[0m\u001b[0;34m\u001b[0m\u001b[0;34m\u001b[0m\u001b[0m\n\u001b[0m\u001b[1;32m    173\u001b[0m \u001b[0;34m\u001b[0m\u001b[0m\n\u001b[1;32m    174\u001b[0m     \u001b[0;32mif\u001b[0m \u001b[0mname\u001b[0m \u001b[0;32mnot\u001b[0m \u001b[0;32min\u001b[0m \u001b[0mTERMS_OF_USE_SHOWN\u001b[0m\u001b[0;34m:\u001b[0m\u001b[0;34m\u001b[0m\u001b[0;34m\u001b[0m\u001b[0m\n",
      "\u001b[0;32m/perm/ma/maif/.local/.pyenv/versions/climetlab/lib/python3.8/site-packages/climetlab/datasets/__init__.py\u001b[0m in \u001b[0;36mlookup\u001b[0;34m(self, name, *args, **kwargs)\u001b[0m\n\u001b[1;32m    140\u001b[0m \u001b[0;34m\u001b[0m\u001b[0m\n\u001b[1;32m    141\u001b[0m         \u001b[0mloader\u001b[0m \u001b[0;34m=\u001b[0m \u001b[0mDatasetLoader\u001b[0m\u001b[0;34m(\u001b[0m\u001b[0;34m)\u001b[0m\u001b[0;34m\u001b[0m\u001b[0;34m\u001b[0m\u001b[0m\n\u001b[0;32m--> 142\u001b[0;31m         \u001b[0mklass\u001b[0m \u001b[0;34m=\u001b[0m \u001b[0mfind_plugin\u001b[0m\u001b[0;34m(\u001b[0m\u001b[0mos\u001b[0m\u001b[0;34m.\u001b[0m\u001b[0mpath\u001b[0m\u001b[0;34m.\u001b[0m\u001b[0mdirname\u001b[0m\u001b[0;34m(\u001b[0m\u001b[0m__file__\u001b[0m\u001b[0;34m)\u001b[0m\u001b[0;34m,\u001b[0m \u001b[0mname\u001b[0m\u001b[0;34m,\u001b[0m \u001b[0mloader\u001b[0m\u001b[0;34m)\u001b[0m\u001b[0;34m\u001b[0m\u001b[0;34m\u001b[0m\u001b[0m\n\u001b[0m\u001b[1;32m    143\u001b[0m \u001b[0;34m\u001b[0m\u001b[0m\n\u001b[1;32m    144\u001b[0m         (args1, kwargs1, args2, kwargs2) = consume_args(\n",
      "\u001b[0;32m/perm/ma/maif/.local/.pyenv/versions/climetlab/lib/python3.8/site-packages/climetlab/core/plugins.py\u001b[0m in \u001b[0;36mfind_plugin\u001b[0;34m(directory, name, loader)\u001b[0m\n\u001b[1;32m     63\u001b[0m     \u001b[0;32mif\u001b[0m \u001b[0mname\u001b[0m \u001b[0;32min\u001b[0m \u001b[0mplugins\u001b[0m\u001b[0;34m:\u001b[0m\u001b[0;34m\u001b[0m\u001b[0;34m\u001b[0m\u001b[0m\n\u001b[1;32m     64\u001b[0m         \u001b[0mplugin\u001b[0m \u001b[0;34m=\u001b[0m \u001b[0mplugins\u001b[0m\u001b[0;34m[\u001b[0m\u001b[0mname\u001b[0m\u001b[0;34m]\u001b[0m\u001b[0;34m\u001b[0m\u001b[0;34m\u001b[0m\u001b[0m\n\u001b[0;32m---> 65\u001b[0;31m         \u001b[0;32mreturn\u001b[0m \u001b[0mloader\u001b[0m\u001b[0;34m.\u001b[0m\u001b[0mload_entry\u001b[0m\u001b[0;34m(\u001b[0m\u001b[0mplugin\u001b[0m\u001b[0;34m)\u001b[0m\u001b[0;34m\u001b[0m\u001b[0;34m\u001b[0m\u001b[0m\n\u001b[0m\u001b[1;32m     66\u001b[0m \u001b[0;34m\u001b[0m\u001b[0m\n\u001b[1;32m     67\u001b[0m     \u001b[0mcandidates\u001b[0m\u001b[0;34m.\u001b[0m\u001b[0mupdate\u001b[0m\u001b[0;34m(\u001b[0m\u001b[0mplugins\u001b[0m\u001b[0;34m.\u001b[0m\u001b[0mkeys\u001b[0m\u001b[0;34m(\u001b[0m\u001b[0;34m)\u001b[0m\u001b[0;34m)\u001b[0m\u001b[0;34m\u001b[0m\u001b[0;34m\u001b[0m\u001b[0m\n",
      "\u001b[0;32m/perm/ma/maif/.local/.pyenv/versions/climetlab/lib/python3.8/site-packages/climetlab/datasets/__init__.py\u001b[0m in \u001b[0;36mload_entry\u001b[0;34m(self, entry)\u001b[0m\n\u001b[1;32m    126\u001b[0m \u001b[0;34m\u001b[0m\u001b[0m\n\u001b[1;32m    127\u001b[0m     \u001b[0;32mdef\u001b[0m \u001b[0mload_entry\u001b[0m\u001b[0;34m(\u001b[0m\u001b[0mself\u001b[0m\u001b[0;34m,\u001b[0m \u001b[0mentry\u001b[0m\u001b[0;34m)\u001b[0m\u001b[0;34m:\u001b[0m\u001b[0;34m\u001b[0m\u001b[0;34m\u001b[0m\u001b[0m\n\u001b[0;32m--> 128\u001b[0;31m         \u001b[0mentry\u001b[0m \u001b[0;34m=\u001b[0m \u001b[0mentry\u001b[0m\u001b[0;34m.\u001b[0m\u001b[0mload\u001b[0m\u001b[0;34m(\u001b[0m\u001b[0;34m)\u001b[0m\u001b[0;34m\u001b[0m\u001b[0;34m\u001b[0m\u001b[0m\n\u001b[0m\u001b[1;32m    129\u001b[0m         \u001b[0;32mif\u001b[0m \u001b[0mcallable\u001b[0m\u001b[0;34m(\u001b[0m\u001b[0mentry\u001b[0m\u001b[0;34m)\u001b[0m\u001b[0;34m:\u001b[0m\u001b[0;34m\u001b[0m\u001b[0;34m\u001b[0m\u001b[0m\n\u001b[1;32m    130\u001b[0m             \u001b[0;32mreturn\u001b[0m \u001b[0mentry\u001b[0m\u001b[0;34m\u001b[0m\u001b[0;34m\u001b[0m\u001b[0m\n",
      "\u001b[0;32m/perm/ma/maif/.local/.pyenv/versions/climetlab/lib/python3.8/site-packages/entrypoints.py\u001b[0m in \u001b[0;36mload\u001b[0;34m(self)\u001b[0m\n\u001b[1;32m     80\u001b[0m         \"\"\"Load the object to which this entry point refers.\n\u001b[1;32m     81\u001b[0m         \"\"\"\n\u001b[0;32m---> 82\u001b[0;31m         \u001b[0mmod\u001b[0m \u001b[0;34m=\u001b[0m \u001b[0mimport_module\u001b[0m\u001b[0;34m(\u001b[0m\u001b[0mself\u001b[0m\u001b[0;34m.\u001b[0m\u001b[0mmodule_name\u001b[0m\u001b[0;34m)\u001b[0m\u001b[0;34m\u001b[0m\u001b[0;34m\u001b[0m\u001b[0m\n\u001b[0m\u001b[1;32m     83\u001b[0m         \u001b[0mobj\u001b[0m \u001b[0;34m=\u001b[0m \u001b[0mmod\u001b[0m\u001b[0;34m\u001b[0m\u001b[0;34m\u001b[0m\u001b[0m\n\u001b[1;32m     84\u001b[0m         \u001b[0;32mif\u001b[0m \u001b[0mself\u001b[0m\u001b[0;34m.\u001b[0m\u001b[0mobject_name\u001b[0m\u001b[0;34m:\u001b[0m\u001b[0;34m\u001b[0m\u001b[0;34m\u001b[0m\u001b[0m\n",
      "\u001b[0;32m/perm/ma/maif/.local/.pyenv/versions/3.8.5/lib/python3.8/importlib/__init__.py\u001b[0m in \u001b[0;36mimport_module\u001b[0;34m(name, package)\u001b[0m\n\u001b[1;32m    125\u001b[0m                 \u001b[0;32mbreak\u001b[0m\u001b[0;34m\u001b[0m\u001b[0;34m\u001b[0m\u001b[0m\n\u001b[1;32m    126\u001b[0m             \u001b[0mlevel\u001b[0m \u001b[0;34m+=\u001b[0m \u001b[0;36m1\u001b[0m\u001b[0;34m\u001b[0m\u001b[0;34m\u001b[0m\u001b[0m\n\u001b[0;32m--> 127\u001b[0;31m     \u001b[0;32mreturn\u001b[0m \u001b[0m_bootstrap\u001b[0m\u001b[0;34m.\u001b[0m\u001b[0m_gcd_import\u001b[0m\u001b[0;34m(\u001b[0m\u001b[0mname\u001b[0m\u001b[0;34m[\u001b[0m\u001b[0mlevel\u001b[0m\u001b[0;34m:\u001b[0m\u001b[0;34m]\u001b[0m\u001b[0;34m,\u001b[0m \u001b[0mpackage\u001b[0m\u001b[0;34m,\u001b[0m \u001b[0mlevel\u001b[0m\u001b[0;34m)\u001b[0m\u001b[0;34m\u001b[0m\u001b[0;34m\u001b[0m\u001b[0m\n\u001b[0m\u001b[1;32m    128\u001b[0m \u001b[0;34m\u001b[0m\u001b[0m\n\u001b[1;32m    129\u001b[0m \u001b[0;34m\u001b[0m\u001b[0m\n",
      "\u001b[0;32m/perm/ma/maif/.local/.pyenv/versions/3.8.5/lib/python3.8/importlib/_bootstrap.py\u001b[0m in \u001b[0;36m_gcd_import\u001b[0;34m(name, package, level)\u001b[0m\n",
      "\u001b[0;32m/perm/ma/maif/.local/.pyenv/versions/3.8.5/lib/python3.8/importlib/_bootstrap.py\u001b[0m in \u001b[0;36m_find_and_load\u001b[0;34m(name, import_)\u001b[0m\n",
      "\u001b[0;32m/perm/ma/maif/.local/.pyenv/versions/3.8.5/lib/python3.8/importlib/_bootstrap.py\u001b[0m in \u001b[0;36m_find_and_load_unlocked\u001b[0;34m(name, import_)\u001b[0m\n",
      "\u001b[0;31mModuleNotFoundError\u001b[0m: No module named 'climetlab_cems_flood.glofas_forecast'"
     ]
    }
   ],
   "source": [
    "cmlds = cml.load_dataset(\n",
    "        'cems-flood-glofas-forecast',\n",
    "        year='2021',\n",
    "        parameter='t2m'\n",
    "    )"
   ]
  },
  {
   "cell_type": "code",
   "execution_count": 13,
   "id": "ranking-murder",
   "metadata": {},
   "outputs": [],
   "source": [
    "import entrypoints"
   ]
  },
  {
   "cell_type": "code",
   "execution_count": 14,
   "id": "accurate-projection",
   "metadata": {},
   "outputs": [
    {
     "data": {
      "text/plain": [
       "[EntryPoint('cems-flood-glofas-forecast', 'climetlab_cems_flood.glofas_forecast', 'GlofasForecast', None)]"
      ]
     },
     "execution_count": 14,
     "metadata": {},
     "output_type": "execute_result"
    }
   ],
   "source": [
    "entrypoints.get_group_all(f\"climetlab.datasets\")"
   ]
  },
  {
   "cell_type": "code",
   "execution_count": 15,
   "id": "satellite-vision",
   "metadata": {},
   "outputs": [
    {
     "ename": "ModuleNotFoundError",
     "evalue": "No module named 'utils'",
     "output_type": "error",
     "traceback": [
      "\u001b[0;31m---------------------------------------------------------------------------\u001b[0m",
      "\u001b[0;31mModuleNotFoundError\u001b[0m                       Traceback (most recent call last)",
      "\u001b[0;32m<ipython-input-15-fa1d6c1c490c>\u001b[0m in \u001b[0;36m<module>\u001b[0;34m\u001b[0m\n\u001b[0;32m----> 1\u001b[0;31m cmlds = cml.load_dataset(\n\u001b[0m\u001b[1;32m      2\u001b[0m         \u001b[0;34m'cems-flood-glofas-forecast'\u001b[0m\u001b[0;34m,\u001b[0m\u001b[0;34m\u001b[0m\u001b[0;34m\u001b[0m\u001b[0m\n\u001b[1;32m      3\u001b[0m     \u001b[0mmodel\u001b[0m\u001b[0;34m=\u001b[0m\u001b[0;34m'htessel_lisflood'\u001b[0m\u001b[0;34m,\u001b[0m\u001b[0;34m\u001b[0m\u001b[0;34m\u001b[0m\u001b[0m\n\u001b[1;32m      4\u001b[0m     \u001b[0msystem_version\u001b[0m\u001b[0;34m=\u001b[0m\u001b[0;34m'version_2_1'\u001b[0m\u001b[0;34m,\u001b[0m\u001b[0;34m\u001b[0m\u001b[0;34m\u001b[0m\u001b[0m\n\u001b[1;32m      5\u001b[0m     \u001b[0mperiod\u001b[0m\u001b[0;34m=\u001b[0m\u001b[0;34m'20200101-20200104'\u001b[0m\u001b[0;34m,\u001b[0m\u001b[0;34m\u001b[0m\u001b[0;34m\u001b[0m\u001b[0m\n",
      "\u001b[0;32m~/development/climetlab-cems-flood/.venv/lib/python3.8/site-packages/climetlab/datasets/__init__.py\u001b[0m in \u001b[0;36mload_dataset\u001b[0;34m(name, *args, **kwargs)\u001b[0m\n\u001b[1;32m    170\u001b[0m \u001b[0;32mdef\u001b[0m \u001b[0mload_dataset\u001b[0m\u001b[0;34m(\u001b[0m\u001b[0mname\u001b[0m\u001b[0;34m,\u001b[0m \u001b[0;34m*\u001b[0m\u001b[0margs\u001b[0m\u001b[0;34m,\u001b[0m \u001b[0;34m**\u001b[0m\u001b[0mkwargs\u001b[0m\u001b[0;34m)\u001b[0m\u001b[0;34m:\u001b[0m\u001b[0;34m\u001b[0m\u001b[0;34m\u001b[0m\u001b[0m\n\u001b[1;32m    171\u001b[0m \u001b[0;34m\u001b[0m\u001b[0m\n\u001b[0;32m--> 172\u001b[0;31m     \u001b[0mds\u001b[0m\u001b[0;34m,\u001b[0m \u001b[0margs\u001b[0m\u001b[0;34m,\u001b[0m \u001b[0mkwargs\u001b[0m \u001b[0;34m=\u001b[0m \u001b[0mdataset\u001b[0m\u001b[0;34m.\u001b[0m\u001b[0mlookup\u001b[0m\u001b[0;34m(\u001b[0m\u001b[0mname\u001b[0m\u001b[0;34m,\u001b[0m \u001b[0;34m*\u001b[0m\u001b[0margs\u001b[0m\u001b[0;34m,\u001b[0m \u001b[0;34m**\u001b[0m\u001b[0mkwargs\u001b[0m\u001b[0;34m)\u001b[0m\u001b[0;34m\u001b[0m\u001b[0;34m\u001b[0m\u001b[0m\n\u001b[0m\u001b[1;32m    173\u001b[0m \u001b[0;34m\u001b[0m\u001b[0m\n\u001b[1;32m    174\u001b[0m     \u001b[0;32mif\u001b[0m \u001b[0mname\u001b[0m \u001b[0;32mnot\u001b[0m \u001b[0;32min\u001b[0m \u001b[0mTERMS_OF_USE_SHOWN\u001b[0m\u001b[0;34m:\u001b[0m\u001b[0;34m\u001b[0m\u001b[0;34m\u001b[0m\u001b[0m\n",
      "\u001b[0;32m~/development/climetlab-cems-flood/.venv/lib/python3.8/site-packages/climetlab/datasets/__init__.py\u001b[0m in \u001b[0;36mlookup\u001b[0;34m(self, name, *args, **kwargs)\u001b[0m\n\u001b[1;32m    140\u001b[0m \u001b[0;34m\u001b[0m\u001b[0m\n\u001b[1;32m    141\u001b[0m         \u001b[0mloader\u001b[0m \u001b[0;34m=\u001b[0m \u001b[0mDatasetLoader\u001b[0m\u001b[0;34m(\u001b[0m\u001b[0;34m)\u001b[0m\u001b[0;34m\u001b[0m\u001b[0;34m\u001b[0m\u001b[0m\n\u001b[0;32m--> 142\u001b[0;31m         \u001b[0mklass\u001b[0m \u001b[0;34m=\u001b[0m \u001b[0mfind_plugin\u001b[0m\u001b[0;34m(\u001b[0m\u001b[0mos\u001b[0m\u001b[0;34m.\u001b[0m\u001b[0mpath\u001b[0m\u001b[0;34m.\u001b[0m\u001b[0mdirname\u001b[0m\u001b[0;34m(\u001b[0m\u001b[0m__file__\u001b[0m\u001b[0;34m)\u001b[0m\u001b[0;34m,\u001b[0m \u001b[0mname\u001b[0m\u001b[0;34m,\u001b[0m \u001b[0mloader\u001b[0m\u001b[0;34m)\u001b[0m\u001b[0;34m\u001b[0m\u001b[0;34m\u001b[0m\u001b[0m\n\u001b[0m\u001b[1;32m    143\u001b[0m \u001b[0;34m\u001b[0m\u001b[0m\n\u001b[1;32m    144\u001b[0m         (args1, kwargs1, args2, kwargs2) = consume_args(\n",
      "\u001b[0;32m~/development/climetlab-cems-flood/.venv/lib/python3.8/site-packages/climetlab/core/plugins.py\u001b[0m in \u001b[0;36mfind_plugin\u001b[0;34m(directory, name, loader)\u001b[0m\n\u001b[1;32m     63\u001b[0m     \u001b[0;32mif\u001b[0m \u001b[0mname\u001b[0m \u001b[0;32min\u001b[0m \u001b[0mplugins\u001b[0m\u001b[0;34m:\u001b[0m\u001b[0;34m\u001b[0m\u001b[0;34m\u001b[0m\u001b[0m\n\u001b[1;32m     64\u001b[0m         \u001b[0mplugin\u001b[0m \u001b[0;34m=\u001b[0m \u001b[0mplugins\u001b[0m\u001b[0;34m[\u001b[0m\u001b[0mname\u001b[0m\u001b[0;34m]\u001b[0m\u001b[0;34m\u001b[0m\u001b[0;34m\u001b[0m\u001b[0m\n\u001b[0;32m---> 65\u001b[0;31m         \u001b[0;32mreturn\u001b[0m \u001b[0mloader\u001b[0m\u001b[0;34m.\u001b[0m\u001b[0mload_entry\u001b[0m\u001b[0;34m(\u001b[0m\u001b[0mplugin\u001b[0m\u001b[0;34m)\u001b[0m\u001b[0;34m\u001b[0m\u001b[0;34m\u001b[0m\u001b[0m\n\u001b[0m\u001b[1;32m     66\u001b[0m \u001b[0;34m\u001b[0m\u001b[0m\n\u001b[1;32m     67\u001b[0m     \u001b[0mcandidates\u001b[0m\u001b[0;34m.\u001b[0m\u001b[0mupdate\u001b[0m\u001b[0;34m(\u001b[0m\u001b[0mplugins\u001b[0m\u001b[0;34m.\u001b[0m\u001b[0mkeys\u001b[0m\u001b[0;34m(\u001b[0m\u001b[0;34m)\u001b[0m\u001b[0;34m)\u001b[0m\u001b[0;34m\u001b[0m\u001b[0;34m\u001b[0m\u001b[0m\n",
      "\u001b[0;32m~/development/climetlab-cems-flood/.venv/lib/python3.8/site-packages/climetlab/datasets/__init__.py\u001b[0m in \u001b[0;36mload_entry\u001b[0;34m(self, entry)\u001b[0m\n\u001b[1;32m    126\u001b[0m \u001b[0;34m\u001b[0m\u001b[0m\n\u001b[1;32m    127\u001b[0m     \u001b[0;32mdef\u001b[0m \u001b[0mload_entry\u001b[0m\u001b[0;34m(\u001b[0m\u001b[0mself\u001b[0m\u001b[0;34m,\u001b[0m \u001b[0mentry\u001b[0m\u001b[0;34m)\u001b[0m\u001b[0;34m:\u001b[0m\u001b[0;34m\u001b[0m\u001b[0;34m\u001b[0m\u001b[0m\n\u001b[0;32m--> 128\u001b[0;31m         \u001b[0mentry\u001b[0m \u001b[0;34m=\u001b[0m \u001b[0mentry\u001b[0m\u001b[0;34m.\u001b[0m\u001b[0mload\u001b[0m\u001b[0;34m(\u001b[0m\u001b[0;34m)\u001b[0m\u001b[0;34m\u001b[0m\u001b[0;34m\u001b[0m\u001b[0m\n\u001b[0m\u001b[1;32m    129\u001b[0m         \u001b[0;32mif\u001b[0m \u001b[0mcallable\u001b[0m\u001b[0;34m(\u001b[0m\u001b[0mentry\u001b[0m\u001b[0;34m)\u001b[0m\u001b[0;34m:\u001b[0m\u001b[0;34m\u001b[0m\u001b[0;34m\u001b[0m\u001b[0m\n\u001b[1;32m    130\u001b[0m             \u001b[0;32mreturn\u001b[0m \u001b[0mentry\u001b[0m\u001b[0;34m\u001b[0m\u001b[0;34m\u001b[0m\u001b[0m\n",
      "\u001b[0;32m~/development/climetlab-cems-flood/.venv/lib/python3.8/site-packages/entrypoints.py\u001b[0m in \u001b[0;36mload\u001b[0;34m(self)\u001b[0m\n\u001b[1;32m     80\u001b[0m         \"\"\"Load the object to which this entry point refers.\n\u001b[1;32m     81\u001b[0m         \"\"\"\n\u001b[0;32m---> 82\u001b[0;31m         \u001b[0mmod\u001b[0m \u001b[0;34m=\u001b[0m \u001b[0mimport_module\u001b[0m\u001b[0;34m(\u001b[0m\u001b[0mself\u001b[0m\u001b[0;34m.\u001b[0m\u001b[0mmodule_name\u001b[0m\u001b[0;34m)\u001b[0m\u001b[0;34m\u001b[0m\u001b[0;34m\u001b[0m\u001b[0m\n\u001b[0m\u001b[1;32m     83\u001b[0m         \u001b[0mobj\u001b[0m \u001b[0;34m=\u001b[0m \u001b[0mmod\u001b[0m\u001b[0;34m\u001b[0m\u001b[0;34m\u001b[0m\u001b[0m\n\u001b[1;32m     84\u001b[0m         \u001b[0;32mif\u001b[0m \u001b[0mself\u001b[0m\u001b[0;34m.\u001b[0m\u001b[0mobject_name\u001b[0m\u001b[0;34m:\u001b[0m\u001b[0;34m\u001b[0m\u001b[0;34m\u001b[0m\u001b[0m\n",
      "\u001b[0;32m/usr/lib/python3.8/importlib/__init__.py\u001b[0m in \u001b[0;36mimport_module\u001b[0;34m(name, package)\u001b[0m\n\u001b[1;32m    125\u001b[0m                 \u001b[0;32mbreak\u001b[0m\u001b[0;34m\u001b[0m\u001b[0;34m\u001b[0m\u001b[0m\n\u001b[1;32m    126\u001b[0m             \u001b[0mlevel\u001b[0m \u001b[0;34m+=\u001b[0m \u001b[0;36m1\u001b[0m\u001b[0;34m\u001b[0m\u001b[0;34m\u001b[0m\u001b[0m\n\u001b[0;32m--> 127\u001b[0;31m     \u001b[0;32mreturn\u001b[0m \u001b[0m_bootstrap\u001b[0m\u001b[0;34m.\u001b[0m\u001b[0m_gcd_import\u001b[0m\u001b[0;34m(\u001b[0m\u001b[0mname\u001b[0m\u001b[0;34m[\u001b[0m\u001b[0mlevel\u001b[0m\u001b[0;34m:\u001b[0m\u001b[0;34m]\u001b[0m\u001b[0;34m,\u001b[0m \u001b[0mpackage\u001b[0m\u001b[0;34m,\u001b[0m \u001b[0mlevel\u001b[0m\u001b[0;34m)\u001b[0m\u001b[0;34m\u001b[0m\u001b[0;34m\u001b[0m\u001b[0m\n\u001b[0m\u001b[1;32m    128\u001b[0m \u001b[0;34m\u001b[0m\u001b[0m\n\u001b[1;32m    129\u001b[0m \u001b[0;34m\u001b[0m\u001b[0m\n",
      "\u001b[0;32m/usr/lib/python3.8/importlib/_bootstrap.py\u001b[0m in \u001b[0;36m_gcd_import\u001b[0;34m(name, package, level)\u001b[0m\n",
      "\u001b[0;32m/usr/lib/python3.8/importlib/_bootstrap.py\u001b[0m in \u001b[0;36m_find_and_load\u001b[0;34m(name, import_)\u001b[0m\n",
      "\u001b[0;32m/usr/lib/python3.8/importlib/_bootstrap.py\u001b[0m in \u001b[0;36m_find_and_load_unlocked\u001b[0;34m(name, import_)\u001b[0m\n",
      "\u001b[0;32m/usr/lib/python3.8/importlib/_bootstrap.py\u001b[0m in \u001b[0;36m_load_unlocked\u001b[0;34m(spec)\u001b[0m\n",
      "\u001b[0;32m/usr/lib/python3.8/importlib/_bootstrap_external.py\u001b[0m in \u001b[0;36mexec_module\u001b[0;34m(self, module)\u001b[0m\n",
      "\u001b[0;32m/usr/lib/python3.8/importlib/_bootstrap.py\u001b[0m in \u001b[0;36m_call_with_frames_removed\u001b[0;34m(f, *args, **kwds)\u001b[0m\n",
      "\u001b[0;32m~/development/climetlab-cems-flood/climetlab_cems_flood/glofas_forecast.py\u001b[0m in \u001b[0;36m<module>\u001b[0;34m\u001b[0m\n\u001b[1;32m      5\u001b[0m \u001b[0;32mfrom\u001b[0m \u001b[0mclimetlab\u001b[0m \u001b[0;32mimport\u001b[0m \u001b[0mDataset\u001b[0m\u001b[0;34m\u001b[0m\u001b[0;34m\u001b[0m\u001b[0m\n\u001b[1;32m      6\u001b[0m \u001b[0;34m\u001b[0m\u001b[0m\n\u001b[0;32m----> 7\u001b[0;31m \u001b[0;32mfrom\u001b[0m \u001b[0mutils\u001b[0m \u001b[0;32mimport\u001b[0m \u001b[0mParser\u001b[0m\u001b[0;34m\u001b[0m\u001b[0;34m\u001b[0m\u001b[0m\n\u001b[0m\u001b[1;32m      8\u001b[0m \u001b[0;34m\u001b[0m\u001b[0m\n\u001b[1;32m      9\u001b[0m \u001b[0;31m# __version__ = \"0.1.0\"\u001b[0m\u001b[0;34m\u001b[0m\u001b[0;34m\u001b[0m\u001b[0;34m\u001b[0m\u001b[0m\n",
      "\u001b[0;31mModuleNotFoundError\u001b[0m: No module named 'utils'"
     ]
    }
   ],
   "source": [
    "cmlds = cml.load_dataset(\n",
    "        'cems-flood-glofas-forecast',\n",
    "    model='htessel_lisflood',\n",
    "    system_version='version_2_1',\n",
    "    period='20200101-20200104',\n",
    "    leadtime_hours='24-240',\n",
    "    variable=\"river_discharge_in_the_last_24_hours\"\n",
    "    )"
   ]
  },
  {
   "cell_type": "markdown",
   "id": "exterior-elder",
   "metadata": {},
   "source": [
    "ds = cmlds.to_xarray()\n",
    "ds"
   ]
  },
  {
   "cell_type": "code",
   "execution_count": null,
   "id": "aggressive-festival",
   "metadata": {},
   "outputs": [],
   "source": []
  },
  {
   "cell_type": "code",
   "execution_count": null,
   "id": "complete-beatles",
   "metadata": {},
   "outputs": [],
   "source": []
  },
  {
   "cell_type": "code",
   "execution_count": null,
   "id": "useful-humanitarian",
   "metadata": {},
   "outputs": [],
   "source": []
  }
 ],
 "metadata": {
  "kernelspec": {
   "display_name": "climet",
   "language": "python",
   "name": "climet"
  },
  "language_info": {
   "codemirror_mode": {
    "name": "ipython",
    "version": 3
   },
   "file_extension": ".py",
   "mimetype": "text/x-python",
   "name": "python",
   "nbconvert_exporter": "python",
   "pygments_lexer": "ipython3",
   "version": "3.8.5"
  }
 },
 "nbformat": 4,
 "nbformat_minor": 5
}
