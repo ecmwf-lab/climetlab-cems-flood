{
 "cells": [
  {
   "cell_type": "code",
   "execution_count": 13,
   "id": "quality-checkout",
   "metadata": {},
   "outputs": [],
   "source": [
    "#!pip install climetlab\n",
    "#!pip install climetlab_cems_flood==0.0.5"
   ]
  },
  {
   "cell_type": "code",
   "execution_count": 1,
   "id": "harmful-hungary",
   "metadata": {},
   "outputs": [],
   "source": [
    "import climetlab as cml\n",
    "import climetlab_cems_flood as cems"
   ]
  },
  {
   "cell_type": "code",
   "execution_count": 2,
   "id": "46845332-5aa4-4b1f-a600-32102343ed91",
   "metadata": {},
   "outputs": [
    {
     "data": {
      "text/plain": [
       "'0.0.4'"
      ]
     },
     "execution_count": 2,
     "metadata": {},
     "output_type": "execute_result"
    }
   ],
   "source": [
    "cems.__version__"
   ]
  },
  {
   "cell_type": "code",
   "execution_count": 3,
   "id": "5ac49751-35a8-40aa-a4e2-8d1dc8ce8d01",
   "metadata": {},
   "outputs": [
    {
     "name": "stdout",
     "output_type": "stream",
     "text": [
      "total 201M\n",
      "-rw-r--r-- 1 iff iff  20K May 17 21:47 cache.db\n",
      "-rw-rw-r-- 1 iff iff 186M May 18 07:47 cdsretriever-1693881131d520f46b1de55f73d02535b4f1acef8b63a7bd908aede2ce2241ad.grib\n",
      "-rw-rw-r-- 1 iff iff  16M May 17 14:55 cdsretriever-3584c481b64ed55f9da58b340011999ebba967194c3d73717b8d4ef28c7cf431.grib\n",
      "-rwxrwxr-x 1 iff iff  909 May 17 13:48 cdsretriever-3584c481b64ed55f9da58b340011999ebba967194c3d73717b8d4ef28c7cf431.grib.923a8.idx\n"
     ]
    }
   ],
   "source": [
    "!ls -lh /tmp/climetlab-iff/"
   ]
  },
  {
   "cell_type": "code",
   "execution_count": 5,
   "id": "widespread-prompt",
   "metadata": {},
   "outputs": [
    {
     "name": "stdout",
     "output_type": "stream",
     "text": [
      "/tmp/climetlab-iff/cdsretriever-1693881131d520f46b1de55f73d02535b4f1acef8b63a7bd908aede2ce2241ad.grib\n",
      "edition      centre       date         dataType     gridType     typeOfLevel  level        stepRange    shortName    packingType  \n",
      "2            ecmf         20200201     cf           regular_ll   surface      0            0-24         dis24        grid_simple \n",
      "2            ecmf         20200201     cf           regular_ll   surface      0            24-48        dis24        grid_simple \n",
      "2            ecmf         20200201     cf           regular_ll   surface      0            48-72        dis24        grid_simple \n",
      "2            ecmf         20200401     cf           regular_ll   surface      0            0-24         dis24        grid_simple \n",
      "2            ecmf         20200401     cf           regular_ll   surface      0            24-48        dis24        grid_simple \n",
      "2            ecmf         20200401     cf           regular_ll   surface      0            48-72        dis24        grid_simple \n",
      "2            ecmf         20200601     cf           regular_ll   surface      0            0-24         dis24        grid_simple \n",
      "2            ecmf         20200601     cf           regular_ll   surface      0            24-48        dis24        grid_simple \n",
      "2            ecmf         20200601     cf           regular_ll   surface      0            48-72        dis24        grid_simple \n",
      "2            ecmf         20200901     cf           regular_ll   surface      0            0-24         dis24        grid_simple \n",
      "2            ecmf         20200901     cf           regular_ll   surface      0            24-48        dis24        grid_simple \n",
      "2            ecmf         20200901     cf           regular_ll   surface      0            48-72        dis24        grid_simple \n",
      "2            ecmf         20201101     cf           regular_ll   surface      0            0-24         dis24        grid_simple \n",
      "2            ecmf         20201101     cf           regular_ll   surface      0            24-48        dis24        grid_simple \n",
      "2            ecmf         20201101     cf           regular_ll   surface      0            48-72        dis24        grid_simple \n",
      "2            ecmf         20200101     cf           regular_ll   surface      0            0-24         dis24        grid_simple \n",
      "2            ecmf         20200101     cf           regular_ll   surface      0            24-48        dis24        grid_simple \n",
      "2            ecmf         20200101     cf           regular_ll   surface      0            48-72        dis24        grid_simple \n",
      "2            ecmf         20200301     cf           regular_ll   surface      0            0-24         dis24        grid_simple \n",
      "2            ecmf         20200301     cf           regular_ll   surface      0            24-48        dis24        grid_simple \n",
      "2            ecmf         20200301     cf           regular_ll   surface      0            48-72        dis24        grid_simple \n",
      "2            ecmf         20200501     cf           regular_ll   surface      0            0-24         dis24        grid_simple \n",
      "2            ecmf         20200501     cf           regular_ll   surface      0            24-48        dis24        grid_simple \n",
      "2            ecmf         20200501     cf           regular_ll   surface      0            48-72        dis24        grid_simple \n",
      "2            ecmf         20200701     cf           regular_ll   surface      0            0-24         dis24        grid_simple \n",
      "2            ecmf         20200701     cf           regular_ll   surface      0            24-48        dis24        grid_simple \n",
      "2            ecmf         20200701     cf           regular_ll   surface      0            48-72        dis24        grid_simple \n",
      "2            ecmf         20200801     cf           regular_ll   surface      0            0-24         dis24        grid_simple \n",
      "2            ecmf         20200801     cf           regular_ll   surface      0            24-48        dis24        grid_simple \n",
      "2            ecmf         20200801     cf           regular_ll   surface      0            48-72        dis24        grid_simple \n",
      "2            ecmf         20201001     cf           regular_ll   surface      0            0-24         dis24        grid_simple \n",
      "2            ecmf         20201001     cf           regular_ll   surface      0            24-48        dis24        grid_simple \n",
      "2            ecmf         20201001     cf           regular_ll   surface      0            48-72        dis24        grid_simple \n",
      "2            ecmf         20201201     cf           regular_ll   surface      0            0-24         dis24        grid_simple \n",
      "2            ecmf         20201201     cf           regular_ll   surface      0            24-48        dis24        grid_simple \n",
      "2            ecmf         20201201     cf           regular_ll   surface      0            48-72        dis24        grid_simple \n",
      "36 of 36 messages in /tmp/climetlab-iff/cdsretriever-1693881131d520f46b1de55f73d02535b4f1acef8b63a7bd908aede2ce2241ad.grib\n",
      "\n",
      "36 of 36 total messages in 1 files\n"
     ]
    }
   ],
   "source": [
    "!grib_ls /tmp/climetlab-iff/cdsretriever-1693881131d520f46b1de55f73d02535b4f1acef8b63a7bd908aede2ce2241ad.grib"
   ]
  },
  {
   "cell_type": "code",
   "execution_count": 6,
   "id": "ranking-murder",
   "metadata": {},
   "outputs": [],
   "source": [
    "import entrypoints"
   ]
  },
  {
   "cell_type": "code",
   "execution_count": 7,
   "id": "accurate-projection",
   "metadata": {},
   "outputs": [
    {
     "data": {
      "text/plain": [
       "[EntryPoint('cems-flood-glofas-forecast', 'climetlab_cems_flood.glofas_forecast', 'GlofasForecast', None)]"
      ]
     },
     "execution_count": 7,
     "metadata": {},
     "output_type": "execute_result"
    }
   ],
   "source": [
    "entrypoints.get_group_all(f\"climetlab.datasets\")"
   ]
  },
  {
   "cell_type": "code",
   "execution_count": 8,
   "id": "b3e6721f-b3f3-4694-9281-40a7e911dfc1",
   "metadata": {},
   "outputs": [
    {
     "name": "stdout",
     "output_type": "stream",
     "text": [
      "By downloading data from this dataset, you agree to the terms and conditions defined at https://github.com/ecmwf-lab/climetlab_cems_flood/LICENSEIf you do not agree with such terms, do not download the data. \n"
     ]
    }
   ],
   "source": [
    "cmlds = cml.load_dataset(\n",
    "            'cems-flood-glofas-forecast',\n",
    "            model='htessel_lisflood',\n",
    "            product_type='control_forecast',\n",
    "            system_version='version_2_1',\n",
    "            period='2020*01',\n",
    "            leadtime='24-72',\n",
    "            variable=\"river_discharge_in_the_last_24_hours\"\n",
    "        )"
   ]
  },
  {
   "cell_type": "code",
   "execution_count": 9,
   "id": "c70d29d6-44ff-4b61-98ce-76191267ed47",
   "metadata": {},
   "outputs": [
    {
     "data": {
      "text/plain": [
       "{'system_version': 'version_2_1',\n",
       " 'hydrological_model': 'htessel_lisflood',\n",
       " 'product_type': 'control_forecast',\n",
       " 'variable': 'river_discharge_in_the_last_24_hours',\n",
       " 'year': ['2020'],\n",
       " 'month': ['01',\n",
       "  '02',\n",
       "  '03',\n",
       "  '04',\n",
       "  '05',\n",
       "  '06',\n",
       "  '07',\n",
       "  '08',\n",
       "  '09',\n",
       "  '10',\n",
       "  '11',\n",
       "  '12'],\n",
       " 'day': ['01'],\n",
       " 'leadtime_hour': ['24', '48', '72'],\n",
       " 'format': 'grib'}"
      ]
     },
     "execution_count": 9,
     "metadata": {},
     "output_type": "execute_result"
    }
   ],
   "source": [
    "cmlds.request"
   ]
  },
  {
   "cell_type": "code",
   "execution_count": 10,
   "id": "5e723cf9-14d4-4c49-876d-6af052dc9544",
   "metadata": {},
   "outputs": [],
   "source": [
    "ds = cmlds.to_xarray()"
   ]
  },
  {
   "cell_type": "code",
   "execution_count": 13,
   "id": "d74aef69-64c5-4260-9a7d-d48977c060ac",
   "metadata": {},
   "outputs": [
    {
     "data": {
      "text/html": [
       "<div><svg style=\"position: absolute; width: 0; height: 0; overflow: hidden\">\n",
       "<defs>\n",
       "<symbol id=\"icon-database\" viewBox=\"0 0 32 32\">\n",
       "<path d=\"M16 0c-8.837 0-16 2.239-16 5v4c0 2.761 7.163 5 16 5s16-2.239 16-5v-4c0-2.761-7.163-5-16-5z\"></path>\n",
       "<path d=\"M16 17c-8.837 0-16-2.239-16-5v6c0 2.761 7.163 5 16 5s16-2.239 16-5v-6c0 2.761-7.163 5-16 5z\"></path>\n",
       "<path d=\"M16 26c-8.837 0-16-2.239-16-5v6c0 2.761 7.163 5 16 5s16-2.239 16-5v-6c0 2.761-7.163 5-16 5z\"></path>\n",
       "</symbol>\n",
       "<symbol id=\"icon-file-text2\" viewBox=\"0 0 32 32\">\n",
       "<path d=\"M28.681 7.159c-0.694-0.947-1.662-2.053-2.724-3.116s-2.169-2.030-3.116-2.724c-1.612-1.182-2.393-1.319-2.841-1.319h-15.5c-1.378 0-2.5 1.121-2.5 2.5v27c0 1.378 1.122 2.5 2.5 2.5h23c1.378 0 2.5-1.122 2.5-2.5v-19.5c0-0.448-0.137-1.23-1.319-2.841zM24.543 5.457c0.959 0.959 1.712 1.825 2.268 2.543h-4.811v-4.811c0.718 0.556 1.584 1.309 2.543 2.268zM28 29.5c0 0.271-0.229 0.5-0.5 0.5h-23c-0.271 0-0.5-0.229-0.5-0.5v-27c0-0.271 0.229-0.5 0.5-0.5 0 0 15.499-0 15.5 0v7c0 0.552 0.448 1 1 1h7v19.5z\"></path>\n",
       "<path d=\"M23 26h-14c-0.552 0-1-0.448-1-1s0.448-1 1-1h14c0.552 0 1 0.448 1 1s-0.448 1-1 1z\"></path>\n",
       "<path d=\"M23 22h-14c-0.552 0-1-0.448-1-1s0.448-1 1-1h14c0.552 0 1 0.448 1 1s-0.448 1-1 1z\"></path>\n",
       "<path d=\"M23 18h-14c-0.552 0-1-0.448-1-1s0.448-1 1-1h14c0.552 0 1 0.448 1 1s-0.448 1-1 1z\"></path>\n",
       "</symbol>\n",
       "</defs>\n",
       "</svg>\n",
       "<style>/* CSS stylesheet for displaying xarray objects in jupyterlab.\n",
       " *\n",
       " */\n",
       "\n",
       ":root {\n",
       "  --xr-font-color0: var(--jp-content-font-color0, rgba(0, 0, 0, 1));\n",
       "  --xr-font-color2: var(--jp-content-font-color2, rgba(0, 0, 0, 0.54));\n",
       "  --xr-font-color3: var(--jp-content-font-color3, rgba(0, 0, 0, 0.38));\n",
       "  --xr-border-color: var(--jp-border-color2, #e0e0e0);\n",
       "  --xr-disabled-color: var(--jp-layout-color3, #bdbdbd);\n",
       "  --xr-background-color: var(--jp-layout-color0, white);\n",
       "  --xr-background-color-row-even: var(--jp-layout-color1, white);\n",
       "  --xr-background-color-row-odd: var(--jp-layout-color2, #eeeeee);\n",
       "}\n",
       "\n",
       "html[theme=dark],\n",
       "body.vscode-dark {\n",
       "  --xr-font-color0: rgba(255, 255, 255, 1);\n",
       "  --xr-font-color2: rgba(255, 255, 255, 0.54);\n",
       "  --xr-font-color3: rgba(255, 255, 255, 0.38);\n",
       "  --xr-border-color: #1F1F1F;\n",
       "  --xr-disabled-color: #515151;\n",
       "  --xr-background-color: #111111;\n",
       "  --xr-background-color-row-even: #111111;\n",
       "  --xr-background-color-row-odd: #313131;\n",
       "}\n",
       "\n",
       ".xr-wrap {\n",
       "  display: block;\n",
       "  min-width: 300px;\n",
       "  max-width: 700px;\n",
       "}\n",
       "\n",
       ".xr-text-repr-fallback {\n",
       "  /* fallback to plain text repr when CSS is not injected (untrusted notebook) */\n",
       "  display: none;\n",
       "}\n",
       "\n",
       ".xr-header {\n",
       "  padding-top: 6px;\n",
       "  padding-bottom: 6px;\n",
       "  margin-bottom: 4px;\n",
       "  border-bottom: solid 1px var(--xr-border-color);\n",
       "}\n",
       "\n",
       ".xr-header > div,\n",
       ".xr-header > ul {\n",
       "  display: inline;\n",
       "  margin-top: 0;\n",
       "  margin-bottom: 0;\n",
       "}\n",
       "\n",
       ".xr-obj-type,\n",
       ".xr-array-name {\n",
       "  margin-left: 2px;\n",
       "  margin-right: 10px;\n",
       "}\n",
       "\n",
       ".xr-obj-type {\n",
       "  color: var(--xr-font-color2);\n",
       "}\n",
       "\n",
       ".xr-sections {\n",
       "  padding-left: 0 !important;\n",
       "  display: grid;\n",
       "  grid-template-columns: 150px auto auto 1fr 20px 20px;\n",
       "}\n",
       "\n",
       ".xr-section-item {\n",
       "  display: contents;\n",
       "}\n",
       "\n",
       ".xr-section-item input {\n",
       "  display: none;\n",
       "}\n",
       "\n",
       ".xr-section-item input + label {\n",
       "  color: var(--xr-disabled-color);\n",
       "}\n",
       "\n",
       ".xr-section-item input:enabled + label {\n",
       "  cursor: pointer;\n",
       "  color: var(--xr-font-color2);\n",
       "}\n",
       "\n",
       ".xr-section-item input:enabled + label:hover {\n",
       "  color: var(--xr-font-color0);\n",
       "}\n",
       "\n",
       ".xr-section-summary {\n",
       "  grid-column: 1;\n",
       "  color: var(--xr-font-color2);\n",
       "  font-weight: 500;\n",
       "}\n",
       "\n",
       ".xr-section-summary > span {\n",
       "  display: inline-block;\n",
       "  padding-left: 0.5em;\n",
       "}\n",
       "\n",
       ".xr-section-summary-in:disabled + label {\n",
       "  color: var(--xr-font-color2);\n",
       "}\n",
       "\n",
       ".xr-section-summary-in + label:before {\n",
       "  display: inline-block;\n",
       "  content: '►';\n",
       "  font-size: 11px;\n",
       "  width: 15px;\n",
       "  text-align: center;\n",
       "}\n",
       "\n",
       ".xr-section-summary-in:disabled + label:before {\n",
       "  color: var(--xr-disabled-color);\n",
       "}\n",
       "\n",
       ".xr-section-summary-in:checked + label:before {\n",
       "  content: '▼';\n",
       "}\n",
       "\n",
       ".xr-section-summary-in:checked + label > span {\n",
       "  display: none;\n",
       "}\n",
       "\n",
       ".xr-section-summary,\n",
       ".xr-section-inline-details {\n",
       "  padding-top: 4px;\n",
       "  padding-bottom: 4px;\n",
       "}\n",
       "\n",
       ".xr-section-inline-details {\n",
       "  grid-column: 2 / -1;\n",
       "}\n",
       "\n",
       ".xr-section-details {\n",
       "  display: none;\n",
       "  grid-column: 1 / -1;\n",
       "  margin-bottom: 5px;\n",
       "}\n",
       "\n",
       ".xr-section-summary-in:checked ~ .xr-section-details {\n",
       "  display: contents;\n",
       "}\n",
       "\n",
       ".xr-array-wrap {\n",
       "  grid-column: 1 / -1;\n",
       "  display: grid;\n",
       "  grid-template-columns: 20px auto;\n",
       "}\n",
       "\n",
       ".xr-array-wrap > label {\n",
       "  grid-column: 1;\n",
       "  vertical-align: top;\n",
       "}\n",
       "\n",
       ".xr-preview {\n",
       "  color: var(--xr-font-color3);\n",
       "}\n",
       "\n",
       ".xr-array-preview,\n",
       ".xr-array-data {\n",
       "  padding: 0 5px !important;\n",
       "  grid-column: 2;\n",
       "}\n",
       "\n",
       ".xr-array-data,\n",
       ".xr-array-in:checked ~ .xr-array-preview {\n",
       "  display: none;\n",
       "}\n",
       "\n",
       ".xr-array-in:checked ~ .xr-array-data,\n",
       ".xr-array-preview {\n",
       "  display: inline-block;\n",
       "}\n",
       "\n",
       ".xr-dim-list {\n",
       "  display: inline-block !important;\n",
       "  list-style: none;\n",
       "  padding: 0 !important;\n",
       "  margin: 0;\n",
       "}\n",
       "\n",
       ".xr-dim-list li {\n",
       "  display: inline-block;\n",
       "  padding: 0;\n",
       "  margin: 0;\n",
       "}\n",
       "\n",
       ".xr-dim-list:before {\n",
       "  content: '(';\n",
       "}\n",
       "\n",
       ".xr-dim-list:after {\n",
       "  content: ')';\n",
       "}\n",
       "\n",
       ".xr-dim-list li:not(:last-child):after {\n",
       "  content: ',';\n",
       "  padding-right: 5px;\n",
       "}\n",
       "\n",
       ".xr-has-index {\n",
       "  font-weight: bold;\n",
       "}\n",
       "\n",
       ".xr-var-list,\n",
       ".xr-var-item {\n",
       "  display: contents;\n",
       "}\n",
       "\n",
       ".xr-var-item > div,\n",
       ".xr-var-item label,\n",
       ".xr-var-item > .xr-var-name span {\n",
       "  background-color: var(--xr-background-color-row-even);\n",
       "  margin-bottom: 0;\n",
       "}\n",
       "\n",
       ".xr-var-item > .xr-var-name:hover span {\n",
       "  padding-right: 5px;\n",
       "}\n",
       "\n",
       ".xr-var-list > li:nth-child(odd) > div,\n",
       ".xr-var-list > li:nth-child(odd) > label,\n",
       ".xr-var-list > li:nth-child(odd) > .xr-var-name span {\n",
       "  background-color: var(--xr-background-color-row-odd);\n",
       "}\n",
       "\n",
       ".xr-var-name {\n",
       "  grid-column: 1;\n",
       "}\n",
       "\n",
       ".xr-var-dims {\n",
       "  grid-column: 2;\n",
       "}\n",
       "\n",
       ".xr-var-dtype {\n",
       "  grid-column: 3;\n",
       "  text-align: right;\n",
       "  color: var(--xr-font-color2);\n",
       "}\n",
       "\n",
       ".xr-var-preview {\n",
       "  grid-column: 4;\n",
       "}\n",
       "\n",
       ".xr-var-name,\n",
       ".xr-var-dims,\n",
       ".xr-var-dtype,\n",
       ".xr-preview,\n",
       ".xr-attrs dt {\n",
       "  white-space: nowrap;\n",
       "  overflow: hidden;\n",
       "  text-overflow: ellipsis;\n",
       "  padding-right: 10px;\n",
       "}\n",
       "\n",
       ".xr-var-name:hover,\n",
       ".xr-var-dims:hover,\n",
       ".xr-var-dtype:hover,\n",
       ".xr-attrs dt:hover {\n",
       "  overflow: visible;\n",
       "  width: auto;\n",
       "  z-index: 1;\n",
       "}\n",
       "\n",
       ".xr-var-attrs,\n",
       ".xr-var-data {\n",
       "  display: none;\n",
       "  background-color: var(--xr-background-color) !important;\n",
       "  padding-bottom: 5px !important;\n",
       "}\n",
       "\n",
       ".xr-var-attrs-in:checked ~ .xr-var-attrs,\n",
       ".xr-var-data-in:checked ~ .xr-var-data {\n",
       "  display: block;\n",
       "}\n",
       "\n",
       ".xr-var-data > table {\n",
       "  float: right;\n",
       "}\n",
       "\n",
       ".xr-var-name span,\n",
       ".xr-var-data,\n",
       ".xr-attrs {\n",
       "  padding-left: 25px !important;\n",
       "}\n",
       "\n",
       ".xr-attrs,\n",
       ".xr-var-attrs,\n",
       ".xr-var-data {\n",
       "  grid-column: 1 / -1;\n",
       "}\n",
       "\n",
       "dl.xr-attrs {\n",
       "  padding: 0;\n",
       "  margin: 0;\n",
       "  display: grid;\n",
       "  grid-template-columns: 125px auto;\n",
       "}\n",
       "\n",
       ".xr-attrs dt,\n",
       ".xr-attrs dd {\n",
       "  padding: 0;\n",
       "  margin: 0;\n",
       "  float: left;\n",
       "  padding-right: 10px;\n",
       "  width: auto;\n",
       "}\n",
       "\n",
       ".xr-attrs dt {\n",
       "  font-weight: normal;\n",
       "  grid-column: 1;\n",
       "}\n",
       "\n",
       ".xr-attrs dt:hover span {\n",
       "  display: inline-block;\n",
       "  background: var(--xr-background-color);\n",
       "  padding-right: 10px;\n",
       "}\n",
       "\n",
       ".xr-attrs dd {\n",
       "  grid-column: 2;\n",
       "  white-space: pre-wrap;\n",
       "  word-break: break-all;\n",
       "}\n",
       "\n",
       ".xr-icon-database,\n",
       ".xr-icon-file-text2 {\n",
       "  display: inline-block;\n",
       "  vertical-align: middle;\n",
       "  width: 1em;\n",
       "  height: 1.5em !important;\n",
       "  stroke-width: 0;\n",
       "  stroke: currentColor;\n",
       "  fill: currentColor;\n",
       "}\n",
       "</style><pre class='xr-text-repr-fallback'>&lt;xarray.Dataset&gt;\n",
       "Dimensions:     (latitude: 1500, longitude: 3600, number: 1, step: 3, surface: 1, time: 12)\n",
       "Coordinates:\n",
       "  * number      (number) int64 0\n",
       "  * time        (time) datetime64[ns] 2020-01-01 2020-02-01 ... 2020-12-01\n",
       "  * step        (step) timedelta64[ns] 1 days 2 days 3 days\n",
       "  * surface     (surface) float64 0.0\n",
       "  * latitude    (latitude) float64 89.95 89.85 89.75 ... -59.75 -59.85 -59.95\n",
       "  * longitude   (longitude) float64 -179.9 -179.8 -179.8 ... 179.7 179.8 179.9\n",
       "    valid_time  (time, step) datetime64[ns] dask.array&lt;chunksize=(12, 3), meta=np.ndarray&gt;\n",
       "Data variables:\n",
       "    dis24       (number, time, step, surface, latitude, longitude) float32 dask.array&lt;chunksize=(1, 12, 3, 1, 1500, 3600), meta=np.ndarray&gt;\n",
       "Attributes:\n",
       "    GRIB_edition:            2\n",
       "    GRIB_centre:             ecmf\n",
       "    GRIB_centreDescription:  European Centre for Medium-Range Weather Forecasts\n",
       "    GRIB_subCentre:          0\n",
       "    Conventions:             CF-1.7\n",
       "    institution:             European Centre for Medium-Range Weather Forecasts\n",
       "    history:                 2021-05-18T08:01 GRIB to CDM+CF via cfgrib-0.9.9...</pre><div class='xr-wrap' hidden><div class='xr-header'><div class='xr-obj-type'>xarray.Dataset</div></div><ul class='xr-sections'><li class='xr-section-item'><input id='section-86757173-af50-44dc-a63a-9ae5e0e1511a' class='xr-section-summary-in' type='checkbox' disabled ><label for='section-86757173-af50-44dc-a63a-9ae5e0e1511a' class='xr-section-summary'  title='Expand/collapse section'>Dimensions:</label><div class='xr-section-inline-details'><ul class='xr-dim-list'><li><span class='xr-has-index'>latitude</span>: 1500</li><li><span class='xr-has-index'>longitude</span>: 3600</li><li><span class='xr-has-index'>number</span>: 1</li><li><span class='xr-has-index'>step</span>: 3</li><li><span class='xr-has-index'>surface</span>: 1</li><li><span class='xr-has-index'>time</span>: 12</li></ul></div><div class='xr-section-details'></div></li><li class='xr-section-item'><input id='section-502316b8-c790-4273-8909-83ea47ff32fc' class='xr-section-summary-in' type='checkbox'  checked><label for='section-502316b8-c790-4273-8909-83ea47ff32fc' class='xr-section-summary' >Coordinates: <span>(7)</span></label><div class='xr-section-inline-details'></div><div class='xr-section-details'><ul class='xr-var-list'><li class='xr-var-item'><div class='xr-var-name'><span class='xr-has-index'>number</span></div><div class='xr-var-dims'>(number)</div><div class='xr-var-dtype'>int64</div><div class='xr-var-preview xr-preview'>0</div><input id='attrs-5036d585-6a80-4f5d-bed7-51e81b72f7a1' class='xr-var-attrs-in' type='checkbox' ><label for='attrs-5036d585-6a80-4f5d-bed7-51e81b72f7a1' title='Show/Hide attributes'><svg class='icon xr-icon-file-text2'><use xlink:href='#icon-file-text2'></use></svg></label><input id='data-0d494b79-3ad7-4edd-aac1-299d00769360' class='xr-var-data-in' type='checkbox'><label for='data-0d494b79-3ad7-4edd-aac1-299d00769360' title='Show/Hide data repr'><svg class='icon xr-icon-database'><use xlink:href='#icon-database'></use></svg></label><div class='xr-var-attrs'><dl class='xr-attrs'><dt><span>long_name :</span></dt><dd>ensemble member numerical id</dd><dt><span>units :</span></dt><dd>1</dd><dt><span>standard_name :</span></dt><dd>realization</dd></dl></div><div class='xr-var-data'><pre>array([0])</pre></div></li><li class='xr-var-item'><div class='xr-var-name'><span class='xr-has-index'>time</span></div><div class='xr-var-dims'>(time)</div><div class='xr-var-dtype'>datetime64[ns]</div><div class='xr-var-preview xr-preview'>2020-01-01 ... 2020-12-01</div><input id='attrs-bb326b1b-327c-46ca-8133-71618ee81dce' class='xr-var-attrs-in' type='checkbox' ><label for='attrs-bb326b1b-327c-46ca-8133-71618ee81dce' title='Show/Hide attributes'><svg class='icon xr-icon-file-text2'><use xlink:href='#icon-file-text2'></use></svg></label><input id='data-e18a9bbd-00af-4d74-92a9-506362161d69' class='xr-var-data-in' type='checkbox'><label for='data-e18a9bbd-00af-4d74-92a9-506362161d69' title='Show/Hide data repr'><svg class='icon xr-icon-database'><use xlink:href='#icon-database'></use></svg></label><div class='xr-var-attrs'><dl class='xr-attrs'><dt><span>long_name :</span></dt><dd>initial time of forecast</dd><dt><span>standard_name :</span></dt><dd>forecast_reference_time</dd></dl></div><div class='xr-var-data'><pre>array([&#x27;2020-01-01T00:00:00.000000000&#x27;, &#x27;2020-02-01T00:00:00.000000000&#x27;,\n",
       "       &#x27;2020-03-01T00:00:00.000000000&#x27;, &#x27;2020-04-01T00:00:00.000000000&#x27;,\n",
       "       &#x27;2020-05-01T00:00:00.000000000&#x27;, &#x27;2020-06-01T00:00:00.000000000&#x27;,\n",
       "       &#x27;2020-07-01T00:00:00.000000000&#x27;, &#x27;2020-08-01T00:00:00.000000000&#x27;,\n",
       "       &#x27;2020-09-01T00:00:00.000000000&#x27;, &#x27;2020-10-01T00:00:00.000000000&#x27;,\n",
       "       &#x27;2020-11-01T00:00:00.000000000&#x27;, &#x27;2020-12-01T00:00:00.000000000&#x27;],\n",
       "      dtype=&#x27;datetime64[ns]&#x27;)</pre></div></li><li class='xr-var-item'><div class='xr-var-name'><span class='xr-has-index'>step</span></div><div class='xr-var-dims'>(step)</div><div class='xr-var-dtype'>timedelta64[ns]</div><div class='xr-var-preview xr-preview'>1 days 2 days 3 days</div><input id='attrs-755b1acd-7c82-4af0-8c5d-32a7c089f88b' class='xr-var-attrs-in' type='checkbox' ><label for='attrs-755b1acd-7c82-4af0-8c5d-32a7c089f88b' title='Show/Hide attributes'><svg class='icon xr-icon-file-text2'><use xlink:href='#icon-file-text2'></use></svg></label><input id='data-412c12bc-0552-4bcb-bfc6-e412aa3df02d' class='xr-var-data-in' type='checkbox'><label for='data-412c12bc-0552-4bcb-bfc6-e412aa3df02d' title='Show/Hide data repr'><svg class='icon xr-icon-database'><use xlink:href='#icon-database'></use></svg></label><div class='xr-var-attrs'><dl class='xr-attrs'><dt><span>long_name :</span></dt><dd>time since forecast_reference_time</dd><dt><span>standard_name :</span></dt><dd>forecast_period</dd></dl></div><div class='xr-var-data'><pre>array([ 86400000000000, 172800000000000, 259200000000000],\n",
       "      dtype=&#x27;timedelta64[ns]&#x27;)</pre></div></li><li class='xr-var-item'><div class='xr-var-name'><span class='xr-has-index'>surface</span></div><div class='xr-var-dims'>(surface)</div><div class='xr-var-dtype'>float64</div><div class='xr-var-preview xr-preview'>0.0</div><input id='attrs-fbf038dd-10bb-4750-8766-1dcaa548e7ee' class='xr-var-attrs-in' type='checkbox' ><label for='attrs-fbf038dd-10bb-4750-8766-1dcaa548e7ee' title='Show/Hide attributes'><svg class='icon xr-icon-file-text2'><use xlink:href='#icon-file-text2'></use></svg></label><input id='data-dc3b66c2-5931-49c3-b4fd-24d8efc1092d' class='xr-var-data-in' type='checkbox'><label for='data-dc3b66c2-5931-49c3-b4fd-24d8efc1092d' title='Show/Hide data repr'><svg class='icon xr-icon-database'><use xlink:href='#icon-database'></use></svg></label><div class='xr-var-attrs'><dl class='xr-attrs'><dt><span>long_name :</span></dt><dd>original GRIB coordinate for key: level(surface)</dd><dt><span>units :</span></dt><dd>1</dd></dl></div><div class='xr-var-data'><pre>array([0.])</pre></div></li><li class='xr-var-item'><div class='xr-var-name'><span class='xr-has-index'>latitude</span></div><div class='xr-var-dims'>(latitude)</div><div class='xr-var-dtype'>float64</div><div class='xr-var-preview xr-preview'>89.95 89.85 89.75 ... -59.85 -59.95</div><input id='attrs-1f9a2e51-a49e-43b6-a692-421efd986ae9' class='xr-var-attrs-in' type='checkbox' ><label for='attrs-1f9a2e51-a49e-43b6-a692-421efd986ae9' title='Show/Hide attributes'><svg class='icon xr-icon-file-text2'><use xlink:href='#icon-file-text2'></use></svg></label><input id='data-0f7cee25-432a-4304-a8a6-efd1b0b1c952' class='xr-var-data-in' type='checkbox'><label for='data-0f7cee25-432a-4304-a8a6-efd1b0b1c952' title='Show/Hide data repr'><svg class='icon xr-icon-database'><use xlink:href='#icon-database'></use></svg></label><div class='xr-var-attrs'><dl class='xr-attrs'><dt><span>units :</span></dt><dd>degrees_north</dd><dt><span>standard_name :</span></dt><dd>latitude</dd><dt><span>long_name :</span></dt><dd>latitude</dd><dt><span>stored_direction :</span></dt><dd>decreasing</dd></dl></div><div class='xr-var-data'><pre>array([ 89.95,  89.85,  89.75, ..., -59.75, -59.85, -59.95])</pre></div></li><li class='xr-var-item'><div class='xr-var-name'><span class='xr-has-index'>longitude</span></div><div class='xr-var-dims'>(longitude)</div><div class='xr-var-dtype'>float64</div><div class='xr-var-preview xr-preview'>-179.9 -179.8 ... 179.8 179.9</div><input id='attrs-ffd8aab3-6df5-4cc0-9ffc-9138b0fcd6ac' class='xr-var-attrs-in' type='checkbox' ><label for='attrs-ffd8aab3-6df5-4cc0-9ffc-9138b0fcd6ac' title='Show/Hide attributes'><svg class='icon xr-icon-file-text2'><use xlink:href='#icon-file-text2'></use></svg></label><input id='data-4a09e6e5-3aee-4285-a170-0926dd3acce2' class='xr-var-data-in' type='checkbox'><label for='data-4a09e6e5-3aee-4285-a170-0926dd3acce2' title='Show/Hide data repr'><svg class='icon xr-icon-database'><use xlink:href='#icon-database'></use></svg></label><div class='xr-var-attrs'><dl class='xr-attrs'><dt><span>units :</span></dt><dd>degrees_east</dd><dt><span>standard_name :</span></dt><dd>longitude</dd><dt><span>long_name :</span></dt><dd>longitude</dd></dl></div><div class='xr-var-data'><pre>array([-179.95, -179.85, -179.75, ...,  179.75,  179.85,  179.95])</pre></div></li><li class='xr-var-item'><div class='xr-var-name'><span>valid_time</span></div><div class='xr-var-dims'>(time, step)</div><div class='xr-var-dtype'>datetime64[ns]</div><div class='xr-var-preview xr-preview'>dask.array&lt;chunksize=(12, 3), meta=np.ndarray&gt;</div><input id='attrs-180ca906-18e3-4ffc-a622-8a2e0c09f211' class='xr-var-attrs-in' type='checkbox' ><label for='attrs-180ca906-18e3-4ffc-a622-8a2e0c09f211' title='Show/Hide attributes'><svg class='icon xr-icon-file-text2'><use xlink:href='#icon-file-text2'></use></svg></label><input id='data-09c808d1-c247-4946-984c-4e9f4268414b' class='xr-var-data-in' type='checkbox'><label for='data-09c808d1-c247-4946-984c-4e9f4268414b' title='Show/Hide data repr'><svg class='icon xr-icon-database'><use xlink:href='#icon-database'></use></svg></label><div class='xr-var-attrs'><dl class='xr-attrs'><dt><span>standard_name :</span></dt><dd>time</dd><dt><span>long_name :</span></dt><dd>time</dd></dl></div><div class='xr-var-data'><table>\n",
       "<tr>\n",
       "<td>\n",
       "<table>\n",
       "  <thead>\n",
       "    <tr><td> </td><th> Array </th><th> Chunk </th></tr>\n",
       "  </thead>\n",
       "  <tbody>\n",
       "    <tr><th> Bytes </th><td> 288 B </td> <td> 288 B </td></tr>\n",
       "    <tr><th> Shape </th><td> (12, 3) </td> <td> (12, 3) </td></tr>\n",
       "    <tr><th> Count </th><td> 2 Tasks </td><td> 1 Chunks </td></tr>\n",
       "    <tr><th> Type </th><td> datetime64[ns] </td><td> numpy.ndarray </td></tr>\n",
       "  </tbody>\n",
       "</table>\n",
       "</td>\n",
       "<td>\n",
       "<svg width=\"92\" height=\"170\" style=\"stroke:rgb(0,0,0);stroke-width:1\" >\n",
       "\n",
       "  <!-- Horizontal lines -->\n",
       "  <line x1=\"0\" y1=\"0\" x2=\"42\" y2=\"0\" style=\"stroke-width:2\" />\n",
       "  <line x1=\"0\" y1=\"120\" x2=\"42\" y2=\"120\" style=\"stroke-width:2\" />\n",
       "\n",
       "  <!-- Vertical lines -->\n",
       "  <line x1=\"0\" y1=\"0\" x2=\"0\" y2=\"120\" style=\"stroke-width:2\" />\n",
       "  <line x1=\"42\" y1=\"0\" x2=\"42\" y2=\"120\" style=\"stroke-width:2\" />\n",
       "\n",
       "  <!-- Colored Rectangle -->\n",
       "  <polygon points=\"0.0,0.0 42.89879552186202,0.0 42.89879552186202,120.0 0.0,120.0\" style=\"fill:#ECB172A0;stroke-width:0\"/>\n",
       "\n",
       "  <!-- Text -->\n",
       "  <text x=\"21.449398\" y=\"140.000000\" font-size=\"1.0rem\" font-weight=\"100\" text-anchor=\"middle\" >3</text>\n",
       "  <text x=\"62.898796\" y=\"60.000000\" font-size=\"1.0rem\" font-weight=\"100\" text-anchor=\"middle\" transform=\"rotate(0,62.898796,60.000000)\">12</text>\n",
       "</svg>\n",
       "</td>\n",
       "</tr>\n",
       "</table></div></li></ul></div></li><li class='xr-section-item'><input id='section-b4a898e3-7cb3-489b-af60-95296f94e852' class='xr-section-summary-in' type='checkbox'  checked><label for='section-b4a898e3-7cb3-489b-af60-95296f94e852' class='xr-section-summary' >Data variables: <span>(1)</span></label><div class='xr-section-inline-details'></div><div class='xr-section-details'><ul class='xr-var-list'><li class='xr-var-item'><div class='xr-var-name'><span>dis24</span></div><div class='xr-var-dims'>(number, time, step, surface, latitude, longitude)</div><div class='xr-var-dtype'>float32</div><div class='xr-var-preview xr-preview'>dask.array&lt;chunksize=(1, 12, 3, 1, 1500, 3600), meta=np.ndarray&gt;</div><input id='attrs-8bb3491f-7e35-4ca5-914f-311cf8d6ae53' class='xr-var-attrs-in' type='checkbox' ><label for='attrs-8bb3491f-7e35-4ca5-914f-311cf8d6ae53' title='Show/Hide attributes'><svg class='icon xr-icon-file-text2'><use xlink:href='#icon-file-text2'></use></svg></label><input id='data-aa43a6ae-ae41-4d85-9125-60bb905703cb' class='xr-var-data-in' type='checkbox'><label for='data-aa43a6ae-ae41-4d85-9125-60bb905703cb' title='Show/Hide data repr'><svg class='icon xr-icon-database'><use xlink:href='#icon-database'></use></svg></label><div class='xr-var-attrs'><dl class='xr-attrs'><dt><span>GRIB_paramId :</span></dt><dd>240024</dd><dt><span>GRIB_dataType :</span></dt><dd>cf</dd><dt><span>GRIB_numberOfPoints :</span></dt><dd>5400000</dd><dt><span>GRIB_typeOfLevel :</span></dt><dd>surface</dd><dt><span>GRIB_stepUnits :</span></dt><dd>1</dd><dt><span>GRIB_stepType :</span></dt><dd>avg</dd><dt><span>GRIB_gridType :</span></dt><dd>regular_ll</dd><dt><span>GRIB_NV :</span></dt><dd>0</dd><dt><span>GRIB_Nx :</span></dt><dd>3600</dd><dt><span>GRIB_Ny :</span></dt><dd>1500</dd><dt><span>GRIB_cfName :</span></dt><dd>unknown</dd><dt><span>GRIB_cfVarName :</span></dt><dd>dis24</dd><dt><span>GRIB_gridDefinitionDescription :</span></dt><dd>Latitude/longitude </dd><dt><span>GRIB_iDirectionIncrementInDegrees :</span></dt><dd>0.1</dd><dt><span>GRIB_iScansNegatively :</span></dt><dd>0</dd><dt><span>GRIB_jDirectionIncrementInDegrees :</span></dt><dd>0.1</dd><dt><span>GRIB_jPointsAreConsecutive :</span></dt><dd>0</dd><dt><span>GRIB_jScansPositively :</span></dt><dd>0</dd><dt><span>GRIB_latitudeOfFirstGridPointInDegrees :</span></dt><dd>89.95</dd><dt><span>GRIB_latitudeOfLastGridPointInDegrees :</span></dt><dd>-59.95</dd><dt><span>GRIB_longitudeOfFirstGridPointInDegrees :</span></dt><dd>180.05</dd><dt><span>GRIB_longitudeOfLastGridPointInDegrees :</span></dt><dd>539.95</dd><dt><span>GRIB_missingValue :</span></dt><dd>9999</dd><dt><span>GRIB_name :</span></dt><dd>Mean discharge in the last 24 hours</dd><dt><span>GRIB_shortName :</span></dt><dd>dis24</dd><dt><span>GRIB_totalNumber :</span></dt><dd>51</dd><dt><span>GRIB_units :</span></dt><dd>m**3 s**-1</dd><dt><span>long_name :</span></dt><dd>Mean discharge in the last 24 hours</dd><dt><span>units :</span></dt><dd>m**3 s**-1</dd><dt><span>standard_name :</span></dt><dd>unknown</dd></dl></div><div class='xr-var-data'><table>\n",
       "<tr>\n",
       "<td>\n",
       "<table>\n",
       "  <thead>\n",
       "    <tr><td> </td><th> Array </th><th> Chunk </th></tr>\n",
       "  </thead>\n",
       "  <tbody>\n",
       "    <tr><th> Bytes </th><td> 741.58 MiB </td> <td> 741.58 MiB </td></tr>\n",
       "    <tr><th> Shape </th><td> (1, 12, 3, 1, 1500, 3600) </td> <td> (1, 12, 3, 1, 1500, 3600) </td></tr>\n",
       "    <tr><th> Count </th><td> 2 Tasks </td><td> 1 Chunks </td></tr>\n",
       "    <tr><th> Type </th><td> float32 </td><td> numpy.ndarray </td></tr>\n",
       "  </tbody>\n",
       "</table>\n",
       "</td>\n",
       "<td>\n",
       "<svg width=\"424\" height=\"114\" style=\"stroke:rgb(0,0,0);stroke-width:1\" >\n",
       "\n",
       "  <!-- Horizontal lines -->\n",
       "  <line x1=\"10\" y1=\"0\" x2=\"24\" y2=\"14\" style=\"stroke-width:2\" />\n",
       "  <line x1=\"10\" y1=\"25\" x2=\"24\" y2=\"40\" style=\"stroke-width:2\" />\n",
       "\n",
       "  <!-- Vertical lines -->\n",
       "  <line x1=\"10\" y1=\"0\" x2=\"10\" y2=\"25\" style=\"stroke-width:2\" />\n",
       "  <line x1=\"24\" y1=\"14\" x2=\"24\" y2=\"40\" style=\"stroke-width:2\" />\n",
       "\n",
       "  <!-- Colored Rectangle -->\n",
       "  <polygon points=\"10.0,0.0 24.9485979497544,14.948597949754403 24.9485979497544,40.36121446433689 10.0,25.412616514582485\" style=\"fill:#ECB172A0;stroke-width:0\"/>\n",
       "\n",
       "  <!-- Horizontal lines -->\n",
       "  <line x1=\"10\" y1=\"0\" x2=\"35\" y2=\"0\" style=\"stroke-width:2\" />\n",
       "  <line x1=\"24\" y1=\"14\" x2=\"50\" y2=\"14\" style=\"stroke-width:2\" />\n",
       "\n",
       "  <!-- Vertical lines -->\n",
       "  <line x1=\"10\" y1=\"0\" x2=\"24\" y2=\"14\" style=\"stroke-width:2\" />\n",
       "  <line x1=\"35\" y1=\"0\" x2=\"50\" y2=\"14\" style=\"stroke-width:2\" />\n",
       "\n",
       "  <!-- Colored Rectangle -->\n",
       "  <polygon points=\"10.0,0.0 35.41261651458248,0.0 50.36121446433688,14.948597949754403 24.9485979497544,14.948597949754403\" style=\"fill:#ECB172A0;stroke-width:0\"/>\n",
       "\n",
       "  <!-- Horizontal lines -->\n",
       "  <line x1=\"24\" y1=\"14\" x2=\"50\" y2=\"14\" style=\"stroke-width:2\" />\n",
       "  <line x1=\"24\" y1=\"40\" x2=\"50\" y2=\"40\" style=\"stroke-width:2\" />\n",
       "\n",
       "  <!-- Vertical lines -->\n",
       "  <line x1=\"24\" y1=\"14\" x2=\"24\" y2=\"40\" style=\"stroke-width:2\" />\n",
       "  <line x1=\"50\" y1=\"14\" x2=\"50\" y2=\"40\" style=\"stroke-width:2\" />\n",
       "\n",
       "  <!-- Colored Rectangle -->\n",
       "  <polygon points=\"24.9485979497544,14.948597949754403 50.36121446433688,14.948597949754403 50.36121446433688,40.36121446433689 24.9485979497544,40.36121446433689\" style=\"fill:#ECB172A0;stroke-width:0\"/>\n",
       "\n",
       "  <!-- Text -->\n",
       "  <text x=\"37.654906\" y=\"60.361214\" font-size=\"1.0rem\" font-weight=\"100\" text-anchor=\"middle\" >3</text>\n",
       "  <text x=\"70.361214\" y=\"27.654906\" font-size=\"1.0rem\" font-weight=\"100\" text-anchor=\"middle\" transform=\"rotate(0,70.361214,27.654906)\">12</text>\n",
       "  <text x=\"7.474299\" y=\"52.886915\" font-size=\"1.0rem\" font-weight=\"100\" text-anchor=\"middle\" transform=\"rotate(45,7.474299,52.886915)\">1</text>\n",
       "\n",
       "\n",
       "  <!-- Horizontal lines -->\n",
       "  <line x1=\"120\" y1=\"0\" x2=\"134\" y2=\"14\" style=\"stroke-width:2\" />\n",
       "  <line x1=\"120\" y1=\"50\" x2=\"134\" y2=\"64\" style=\"stroke-width:2\" />\n",
       "\n",
       "  <!-- Vertical lines -->\n",
       "  <line x1=\"120\" y1=\"0\" x2=\"120\" y2=\"50\" style=\"stroke-width:2\" />\n",
       "  <line x1=\"134\" y1=\"14\" x2=\"134\" y2=\"64\" style=\"stroke-width:2\" />\n",
       "\n",
       "  <!-- Colored Rectangle -->\n",
       "  <polygon points=\"120.0,0.0 134.9485979497544,14.948597949754403 134.9485979497544,64.9485979497544 120.0,50.0\" style=\"fill:#ECB172A0;stroke-width:0\"/>\n",
       "\n",
       "  <!-- Horizontal lines -->\n",
       "  <line x1=\"120\" y1=\"0\" x2=\"240\" y2=\"0\" style=\"stroke-width:2\" />\n",
       "  <line x1=\"134\" y1=\"14\" x2=\"254\" y2=\"14\" style=\"stroke-width:2\" />\n",
       "\n",
       "  <!-- Vertical lines -->\n",
       "  <line x1=\"120\" y1=\"0\" x2=\"134\" y2=\"14\" style=\"stroke-width:2\" />\n",
       "  <line x1=\"240\" y1=\"0\" x2=\"254\" y2=\"14\" style=\"stroke-width:2\" />\n",
       "\n",
       "  <!-- Colored Rectangle -->\n",
       "  <polygon points=\"120.0,0.0 240.0,0.0 254.9485979497544,14.948597949754403 134.9485979497544,14.948597949754403\" style=\"fill:#ECB172A0;stroke-width:0\"/>\n",
       "\n",
       "  <!-- Horizontal lines -->\n",
       "  <line x1=\"134\" y1=\"14\" x2=\"254\" y2=\"14\" style=\"stroke-width:2\" />\n",
       "  <line x1=\"134\" y1=\"64\" x2=\"254\" y2=\"64\" style=\"stroke-width:2\" />\n",
       "\n",
       "  <!-- Vertical lines -->\n",
       "  <line x1=\"134\" y1=\"14\" x2=\"134\" y2=\"64\" style=\"stroke-width:2\" />\n",
       "  <line x1=\"254\" y1=\"14\" x2=\"254\" y2=\"64\" style=\"stroke-width:2\" />\n",
       "\n",
       "  <!-- Colored Rectangle -->\n",
       "  <polygon points=\"134.9485979497544,14.948597949754403 254.9485979497544,14.948597949754403 254.9485979497544,64.9485979497544 134.9485979497544,64.9485979497544\" style=\"fill:#ECB172A0;stroke-width:0\"/>\n",
       "\n",
       "  <!-- Text -->\n",
       "  <text x=\"194.948598\" y=\"84.948598\" font-size=\"1.0rem\" font-weight=\"100\" text-anchor=\"middle\" >3600</text>\n",
       "  <text x=\"274.948598\" y=\"39.948598\" font-size=\"1.0rem\" font-weight=\"100\" text-anchor=\"middle\" transform=\"rotate(-90,274.948598,39.948598)\">1500</text>\n",
       "  <text x=\"117.474299\" y=\"77.474299\" font-size=\"1.0rem\" font-weight=\"100\" text-anchor=\"middle\" transform=\"rotate(45,117.474299,77.474299)\">1</text>\n",
       "</svg>\n",
       "</td>\n",
       "</tr>\n",
       "</table></div></li></ul></div></li><li class='xr-section-item'><input id='section-280ae31a-cf9f-4053-b026-1b644b6e16da' class='xr-section-summary-in' type='checkbox'  checked><label for='section-280ae31a-cf9f-4053-b026-1b644b6e16da' class='xr-section-summary' >Attributes: <span>(7)</span></label><div class='xr-section-inline-details'></div><div class='xr-section-details'><dl class='xr-attrs'><dt><span>GRIB_edition :</span></dt><dd>2</dd><dt><span>GRIB_centre :</span></dt><dd>ecmf</dd><dt><span>GRIB_centreDescription :</span></dt><dd>European Centre for Medium-Range Weather Forecasts</dd><dt><span>GRIB_subCentre :</span></dt><dd>0</dd><dt><span>Conventions :</span></dt><dd>CF-1.7</dd><dt><span>institution :</span></dt><dd>European Centre for Medium-Range Weather Forecasts</dd><dt><span>history :</span></dt><dd>2021-05-18T08:01 GRIB to CDM+CF via cfgrib-0.9.9.0/ecCodes-2.21.0 with {&quot;source&quot;: &quot;/tmp/climetlab-iff/cdsretriever-1693881131d520f46b1de55f73d02535b4f1acef8b63a7bd908aede2ce2241ad.grib&quot;, &quot;filter_by_keys&quot;: {}, &quot;encode_cf&quot;: [&quot;parameter&quot;, &quot;time&quot;, &quot;geography&quot;, &quot;vertical&quot;]}</dd></dl></div></li></ul></div></div>"
      ],
      "text/plain": [
       "<xarray.Dataset>\n",
       "Dimensions:     (latitude: 1500, longitude: 3600, number: 1, step: 3, surface: 1, time: 12)\n",
       "Coordinates:\n",
       "  * number      (number) int64 0\n",
       "  * time        (time) datetime64[ns] 2020-01-01 2020-02-01 ... 2020-12-01\n",
       "  * step        (step) timedelta64[ns] 1 days 2 days 3 days\n",
       "  * surface     (surface) float64 0.0\n",
       "  * latitude    (latitude) float64 89.95 89.85 89.75 ... -59.75 -59.85 -59.95\n",
       "  * longitude   (longitude) float64 -179.9 -179.8 -179.8 ... 179.7 179.8 179.9\n",
       "    valid_time  (time, step) datetime64[ns] dask.array<chunksize=(12, 3), meta=np.ndarray>\n",
       "Data variables:\n",
       "    dis24       (number, time, step, surface, latitude, longitude) float32 dask.array<chunksize=(1, 12, 3, 1, 1500, 3600), meta=np.ndarray>\n",
       "Attributes:\n",
       "    GRIB_edition:            2\n",
       "    GRIB_centre:             ecmf\n",
       "    GRIB_centreDescription:  European Centre for Medium-Range Weather Forecasts\n",
       "    GRIB_subCentre:          0\n",
       "    Conventions:             CF-1.7\n",
       "    institution:             European Centre for Medium-Range Weather Forecasts\n",
       "    history:                 2021-05-18T08:01 GRIB to CDM+CF via cfgrib-0.9.9..."
      ]
     },
     "execution_count": 13,
     "metadata": {},
     "output_type": "execute_result"
    }
   ],
   "source": [
    "ds"
   ]
  },
  {
   "cell_type": "code",
   "execution_count": 12,
   "id": "7bc4bc3e-5531-4ae7-a995-4c17f131d127",
   "metadata": {},
   "outputs": [
    {
     "data": {
      "text/html": [
       "<table>\n",
       "<tr>\n",
       "<td>\n",
       "<table>\n",
       "  <thead>\n",
       "    <tr><td> </td><th> Array </th><th> Chunk </th></tr>\n",
       "  </thead>\n",
       "  <tbody>\n",
       "    <tr><th> Bytes </th><td> 741.58 MiB </td> <td> 741.58 MiB </td></tr>\n",
       "    <tr><th> Shape </th><td> (1, 12, 3, 1, 1500, 3600) </td> <td> (1, 12, 3, 1, 1500, 3600) </td></tr>\n",
       "    <tr><th> Count </th><td> 2 Tasks </td><td> 1 Chunks </td></tr>\n",
       "    <tr><th> Type </th><td> float32 </td><td> numpy.ndarray </td></tr>\n",
       "  </tbody>\n",
       "</table>\n",
       "</td>\n",
       "<td>\n",
       "<svg width=\"424\" height=\"114\" style=\"stroke:rgb(0,0,0);stroke-width:1\" >\n",
       "\n",
       "  <!-- Horizontal lines -->\n",
       "  <line x1=\"10\" y1=\"0\" x2=\"24\" y2=\"14\" style=\"stroke-width:2\" />\n",
       "  <line x1=\"10\" y1=\"25\" x2=\"24\" y2=\"40\" style=\"stroke-width:2\" />\n",
       "\n",
       "  <!-- Vertical lines -->\n",
       "  <line x1=\"10\" y1=\"0\" x2=\"10\" y2=\"25\" style=\"stroke-width:2\" />\n",
       "  <line x1=\"24\" y1=\"14\" x2=\"24\" y2=\"40\" style=\"stroke-width:2\" />\n",
       "\n",
       "  <!-- Colored Rectangle -->\n",
       "  <polygon points=\"10.0,0.0 24.9485979497544,14.948597949754403 24.9485979497544,40.36121446433689 10.0,25.412616514582485\" style=\"fill:#ECB172A0;stroke-width:0\"/>\n",
       "\n",
       "  <!-- Horizontal lines -->\n",
       "  <line x1=\"10\" y1=\"0\" x2=\"35\" y2=\"0\" style=\"stroke-width:2\" />\n",
       "  <line x1=\"24\" y1=\"14\" x2=\"50\" y2=\"14\" style=\"stroke-width:2\" />\n",
       "\n",
       "  <!-- Vertical lines -->\n",
       "  <line x1=\"10\" y1=\"0\" x2=\"24\" y2=\"14\" style=\"stroke-width:2\" />\n",
       "  <line x1=\"35\" y1=\"0\" x2=\"50\" y2=\"14\" style=\"stroke-width:2\" />\n",
       "\n",
       "  <!-- Colored Rectangle -->\n",
       "  <polygon points=\"10.0,0.0 35.41261651458248,0.0 50.36121446433688,14.948597949754403 24.9485979497544,14.948597949754403\" style=\"fill:#ECB172A0;stroke-width:0\"/>\n",
       "\n",
       "  <!-- Horizontal lines -->\n",
       "  <line x1=\"24\" y1=\"14\" x2=\"50\" y2=\"14\" style=\"stroke-width:2\" />\n",
       "  <line x1=\"24\" y1=\"40\" x2=\"50\" y2=\"40\" style=\"stroke-width:2\" />\n",
       "\n",
       "  <!-- Vertical lines -->\n",
       "  <line x1=\"24\" y1=\"14\" x2=\"24\" y2=\"40\" style=\"stroke-width:2\" />\n",
       "  <line x1=\"50\" y1=\"14\" x2=\"50\" y2=\"40\" style=\"stroke-width:2\" />\n",
       "\n",
       "  <!-- Colored Rectangle -->\n",
       "  <polygon points=\"24.9485979497544,14.948597949754403 50.36121446433688,14.948597949754403 50.36121446433688,40.36121446433689 24.9485979497544,40.36121446433689\" style=\"fill:#ECB172A0;stroke-width:0\"/>\n",
       "\n",
       "  <!-- Text -->\n",
       "  <text x=\"37.654906\" y=\"60.361214\" font-size=\"1.0rem\" font-weight=\"100\" text-anchor=\"middle\" >3</text>\n",
       "  <text x=\"70.361214\" y=\"27.654906\" font-size=\"1.0rem\" font-weight=\"100\" text-anchor=\"middle\" transform=\"rotate(0,70.361214,27.654906)\">12</text>\n",
       "  <text x=\"7.474299\" y=\"52.886915\" font-size=\"1.0rem\" font-weight=\"100\" text-anchor=\"middle\" transform=\"rotate(45,7.474299,52.886915)\">1</text>\n",
       "\n",
       "\n",
       "  <!-- Horizontal lines -->\n",
       "  <line x1=\"120\" y1=\"0\" x2=\"134\" y2=\"14\" style=\"stroke-width:2\" />\n",
       "  <line x1=\"120\" y1=\"50\" x2=\"134\" y2=\"64\" style=\"stroke-width:2\" />\n",
       "\n",
       "  <!-- Vertical lines -->\n",
       "  <line x1=\"120\" y1=\"0\" x2=\"120\" y2=\"50\" style=\"stroke-width:2\" />\n",
       "  <line x1=\"134\" y1=\"14\" x2=\"134\" y2=\"64\" style=\"stroke-width:2\" />\n",
       "\n",
       "  <!-- Colored Rectangle -->\n",
       "  <polygon points=\"120.0,0.0 134.9485979497544,14.948597949754403 134.9485979497544,64.9485979497544 120.0,50.0\" style=\"fill:#ECB172A0;stroke-width:0\"/>\n",
       "\n",
       "  <!-- Horizontal lines -->\n",
       "  <line x1=\"120\" y1=\"0\" x2=\"240\" y2=\"0\" style=\"stroke-width:2\" />\n",
       "  <line x1=\"134\" y1=\"14\" x2=\"254\" y2=\"14\" style=\"stroke-width:2\" />\n",
       "\n",
       "  <!-- Vertical lines -->\n",
       "  <line x1=\"120\" y1=\"0\" x2=\"134\" y2=\"14\" style=\"stroke-width:2\" />\n",
       "  <line x1=\"240\" y1=\"0\" x2=\"254\" y2=\"14\" style=\"stroke-width:2\" />\n",
       "\n",
       "  <!-- Colored Rectangle -->\n",
       "  <polygon points=\"120.0,0.0 240.0,0.0 254.9485979497544,14.948597949754403 134.9485979497544,14.948597949754403\" style=\"fill:#ECB172A0;stroke-width:0\"/>\n",
       "\n",
       "  <!-- Horizontal lines -->\n",
       "  <line x1=\"134\" y1=\"14\" x2=\"254\" y2=\"14\" style=\"stroke-width:2\" />\n",
       "  <line x1=\"134\" y1=\"64\" x2=\"254\" y2=\"64\" style=\"stroke-width:2\" />\n",
       "\n",
       "  <!-- Vertical lines -->\n",
       "  <line x1=\"134\" y1=\"14\" x2=\"134\" y2=\"64\" style=\"stroke-width:2\" />\n",
       "  <line x1=\"254\" y1=\"14\" x2=\"254\" y2=\"64\" style=\"stroke-width:2\" />\n",
       "\n",
       "  <!-- Colored Rectangle -->\n",
       "  <polygon points=\"134.9485979497544,14.948597949754403 254.9485979497544,14.948597949754403 254.9485979497544,64.9485979497544 134.9485979497544,64.9485979497544\" style=\"fill:#ECB172A0;stroke-width:0\"/>\n",
       "\n",
       "  <!-- Text -->\n",
       "  <text x=\"194.948598\" y=\"84.948598\" font-size=\"1.0rem\" font-weight=\"100\" text-anchor=\"middle\" >3600</text>\n",
       "  <text x=\"274.948598\" y=\"39.948598\" font-size=\"1.0rem\" font-weight=\"100\" text-anchor=\"middle\" transform=\"rotate(-90,274.948598,39.948598)\">1500</text>\n",
       "  <text x=\"117.474299\" y=\"77.474299\" font-size=\"1.0rem\" font-weight=\"100\" text-anchor=\"middle\" transform=\"rotate(45,117.474299,77.474299)\">1</text>\n",
       "</svg>\n",
       "</td>\n",
       "</tr>\n",
       "</table>"
      ],
      "text/plain": [
       "dask.array<open_dataset-9452fc7cd24321acbbb047978f8b4e10dis24, shape=(1, 12, 3, 1, 1500, 3600), dtype=float32, chunksize=(1, 12, 3, 1, 1500, 3600), chunktype=numpy.ndarray>"
      ]
     },
     "execution_count": 12,
     "metadata": {},
     "output_type": "execute_result"
    }
   ],
   "source": [
    "ds.dis24.data"
   ]
  },
  {
   "cell_type": "code",
   "execution_count": null,
   "id": "aggressive-festival",
   "metadata": {},
   "outputs": [],
   "source": [
    "ds.dis24.isel(surface=0,number=0).plot(x=\"valid_time\",col=\"time\")"
   ]
  },
  {
   "cell_type": "code",
   "execution_count": 16,
   "id": "complete-beatles",
   "metadata": {},
   "outputs": [
    {
     "data": {
      "text/plain": [
       "\u001b[0;31mSignature:\u001b[0m \u001b[0mcmlds\u001b[0m\u001b[0;34m.\u001b[0m\u001b[0mto_xarray\u001b[0m\u001b[0;34m(\u001b[0m\u001b[0;34m*\u001b[0m\u001b[0margs\u001b[0m\u001b[0;34m,\u001b[0m \u001b[0;34m**\u001b[0m\u001b[0mkwargs\u001b[0m\u001b[0;34m)\u001b[0m\u001b[0;34m\u001b[0m\u001b[0;34m\u001b[0m\u001b[0m\n",
       "\u001b[0;31mDocstring:\u001b[0m <no docstring>\n",
       "\u001b[0;31mFile:\u001b[0m      ~/development/climetlab-cems-flood/.venv/lib/python3.8/site-packages/climetlab/datasets/__init__.py\n",
       "\u001b[0;31mType:\u001b[0m      method\n"
      ]
     },
     "metadata": {},
     "output_type": "display_data"
    }
   ],
   "source": [
    "cmlds.to_xarray?"
   ]
  },
  {
   "cell_type": "code",
   "execution_count": 24,
   "id": "useful-humanitarian",
   "metadata": {},
   "outputs": [
    {
     "data": {
      "text/plain": [
       "\u001b[0;31mSignature:\u001b[0m \u001b[0mcml\u001b[0m\u001b[0;34m.\u001b[0m\u001b[0mDataset\u001b[0m\u001b[0;34m.\u001b[0m\u001b[0mto_xarray\u001b[0m\u001b[0;34m(\u001b[0m\u001b[0mself\u001b[0m\u001b[0;34m,\u001b[0m \u001b[0;34m*\u001b[0m\u001b[0margs\u001b[0m\u001b[0;34m,\u001b[0m \u001b[0;34m**\u001b[0m\u001b[0mkwargs\u001b[0m\u001b[0;34m)\u001b[0m\u001b[0;34m\u001b[0m\u001b[0;34m\u001b[0m\u001b[0m\n",
       "\u001b[0;31mDocstring:\u001b[0m <no docstring>\n",
       "\u001b[0;31mSource:\u001b[0m   \n",
       "    \u001b[0;32mdef\u001b[0m \u001b[0mto_xarray\u001b[0m\u001b[0;34m(\u001b[0m\u001b[0mself\u001b[0m\u001b[0;34m,\u001b[0m \u001b[0;34m*\u001b[0m\u001b[0margs\u001b[0m\u001b[0;34m,\u001b[0m \u001b[0;34m**\u001b[0m\u001b[0mkwargs\u001b[0m\u001b[0;34m)\u001b[0m\u001b[0;34m:\u001b[0m\u001b[0;34m\u001b[0m\n",
       "\u001b[0;34m\u001b[0m        \u001b[0;32mreturn\u001b[0m \u001b[0mself\u001b[0m\u001b[0;34m.\u001b[0m\u001b[0msource\u001b[0m\u001b[0;34m.\u001b[0m\u001b[0mto_xarray\u001b[0m\u001b[0;34m(\u001b[0m\u001b[0;34m*\u001b[0m\u001b[0margs\u001b[0m\u001b[0;34m,\u001b[0m \u001b[0;34m**\u001b[0m\u001b[0mkwargs\u001b[0m\u001b[0;34m)\u001b[0m\u001b[0;34m\u001b[0m\u001b[0;34m\u001b[0m\u001b[0m\n",
       "\u001b[0;31mFile:\u001b[0m      ~/development/climetlab-cems-flood/.venv/lib/python3.8/site-packages/climetlab/datasets/__init__.py\n",
       "\u001b[0;31mType:\u001b[0m      function\n"
      ]
     },
     "metadata": {},
     "output_type": "display_data"
    }
   ],
   "source": [
    "cml.Dataset.to_xarray??"
   ]
  },
  {
   "cell_type": "code",
   "execution_count": 11,
   "id": "c3549d66-84da-474d-b081-4942b665d588",
   "metadata": {},
   "outputs": [],
   "source": [
    "import re"
   ]
  },
  {
   "cell_type": "code",
   "execution_count": 56,
   "id": "e702f965-86ef-4888-b83a-da1f167dad4f",
   "metadata": {},
   "outputs": [],
   "source": [
    "p = re.compile(\"\\*[0-9]{2}[0-9]{2}\")"
   ]
  },
  {
   "cell_type": "code",
   "execution_count": 62,
   "id": "6c6b37f0-3682-4c72-9a1d-315876313369",
   "metadata": {},
   "outputs": [],
   "source": [
    "p = re.compile(\"[0-9]{4}\\*[0-9]{2}\")"
   ]
  },
  {
   "cell_type": "code",
   "execution_count": 54,
   "id": "dfb071ec-a34d-4ffc-928d-05d8b7505dee",
   "metadata": {},
   "outputs": [],
   "source": [
    "p = re.compile(\"[0-9]{4}[0-9]{2}\\*\")"
   ]
  },
  {
   "cell_type": "code",
   "execution_count": 63,
   "id": "268dec59-7045-4990-a1a1-681084b8c2a7",
   "metadata": {},
   "outputs": [],
   "source": [
    "iterator = p.finditer('2010*01')"
   ]
  },
  {
   "cell_type": "code",
   "execution_count": 64,
   "id": "dd9764bc-051d-4564-9b61-8c6f5ea62a27",
   "metadata": {},
   "outputs": [
    {
     "name": "stdout",
     "output_type": "stream",
     "text": [
      "(0, 7)\n"
     ]
    }
   ],
   "source": [
    "for match in iterator:\n",
    "    print(match.span())"
   ]
  },
  {
   "cell_type": "code",
   "execution_count": 14,
   "id": "8c39a803-fe7d-45d0-960f-cc8765528802",
   "metadata": {},
   "outputs": [],
   "source": [
    "M=[\"%02d\"%d for  d in range(1,13)]\n",
    "Y= [str(d) for d in range(2000,2019)]\n",
    "D=[\"%02d\"%d for  d in range(1,32)]"
   ]
  },
  {
   "cell_type": "code",
   "execution_count": 15,
   "id": "c7bea4e5-5d2d-42bf-aa59-7a7eebfb3c1c",
   "metadata": {},
   "outputs": [],
   "source": [
    "PATTERN = {\"[0-9]{8}\":{}, # most frequent\n",
    "           \"\\*[0-9]{2}[0-9]{2}\":[Y,string[1:3],string[3:]],\n",
    "           \"[0-9]{4}\\*[0-9]{2}\":[string[:4],M,string[5:]],\n",
    "           \"[0-9]{4}[0-9]{2}\\*\":{\"D\":D},\n",
    "           \"[0-9]{4}\\*\\*\":{\"M\":M,\"D\":D},\n",
    "           \"\\*[0-9]{2}\\*\":{\"Y\":Y,\"D\":D},\n",
    "           \"\\*\\*[0-9]{2}\":{\"Y\":Y,\"M\":M},\n",
    "          \"\\*\\*\\*\":{\"Y\":Y,\"M\":M,\"D\":D}}"
   ]
  },
  {
   "cell_type": "code",
   "execution_count": 16,
   "id": "856a2005-94ac-40a6-b892-120b7143011d",
   "metadata": {},
   "outputs": [],
   "source": [
    "string = \"2000*01\"\n",
    "for p in PATTERN:\n",
    "    index = re.match(p,string)\n",
    "    if index:\n",
    "        break"
   ]
  },
  {
   "cell_type": "code",
   "execution_count": 67,
   "id": "76e73cbe-342f-450a-ac98-3ff8210aaeaa",
   "metadata": {},
   "outputs": [],
   "source": [
    "s = set(PATTERN[p].keys())\n",
    "i = set([\"M\",\"Y\",\"D\"])"
   ]
  },
  {
   "cell_type": "code",
   "execution_count": 71,
   "id": "139cb9f8-0091-4ce1-b7f3-8f00c48526c8",
   "metadata": {},
   "outputs": [],
   "source": [
    "r = i - s"
   ]
  },
  {
   "cell_type": "code",
   "execution_count": 19,
   "id": "ef47cb0b-af98-45ff-9c4b-03a3f5ec5f32",
   "metadata": {},
   "outputs": [],
   "source": [
    "def ensure_list(l):\n",
    "    if isinstance(l,list):\n",
    "        return l\n",
    "    else:\n",
    "        return [l]\n"
   ]
  },
  {
   "cell_type": "code",
   "execution_count": 22,
   "id": "4c1233c4-8bb0-4611-a06c-c69c52f5e22a",
   "metadata": {},
   "outputs": [],
   "source": [
    "years,months,days = PATTERN[p]"
   ]
  },
  {
   "cell_type": "code",
   "execution_count": 23,
   "id": "11a114a3-4ed1-4d73-bfc8-45186be0b2bb",
   "metadata": {},
   "outputs": [
    {
     "data": {
      "text/plain": [
       "('2000',\n",
       " ['01', '02', '03', '04', '05', '06', '07', '08', '09', '10', '11', '12'],\n",
       " '01')"
      ]
     },
     "execution_count": 23,
     "metadata": {},
     "output_type": "execute_result"
    }
   ],
   "source": [
    "years,months,days"
   ]
  },
  {
   "cell_type": "code",
   "execution_count": 21,
   "id": "761fdec3-9398-4ce8-8b5d-cda376ec75db",
   "metadata": {},
   "outputs": [
    {
     "data": {
      "text/plain": [
       "['2000']"
      ]
     },
     "execution_count": 21,
     "metadata": {},
     "output_type": "execute_result"
    }
   ],
   "source": [
    "ensure_list([\"2000\"])"
   ]
  },
  {
   "cell_type": "code",
   "execution_count": 17,
   "id": "5eb580d3-a328-402f-9f65-de80f78558fc",
   "metadata": {},
   "outputs": [],
   "source": [
    "import typing as T\n",
    "import calendar"
   ]
  },
  {
   "cell_type": "code",
   "execution_count": 34,
   "id": "31355646-663b-4384-a18e-d9a0202bc1e7",
   "metadata": {},
   "outputs": [],
   "source": [
    "def months_num2str(months: T.List[str]):\n",
    "    mapping = {\"01\":\"january\",\"02\":\"february\",\"03\":\"march\",\"04\":\"april\",\"05\":\"may\",\n",
    "               \"06\":\"june\",\"07\":\"july\",\"08\":\"august\",\"09\":\"september\",\"10\":\"october\",\n",
    "              \"11\":\"november\",\"12\":\"december\"}\n",
    "    return [mapping.get(m) for m in months if mapping.get(m)]"
   ]
  },
  {
   "cell_type": "code",
   "execution_count": 35,
   "id": "6acd36e3-f3a3-4382-8469-ee3f9d963300",
   "metadata": {},
   "outputs": [
    {
     "data": {
      "text/plain": [
       "['january', 'february', 'march', 'april']"
      ]
     },
     "execution_count": 35,
     "metadata": {},
     "output_type": "execute_result"
    }
   ],
   "source": [
    "convert([\"01\",\"02\",\"03\",\"04\"])"
   ]
  },
  {
   "cell_type": "code",
   "execution_count": 31,
   "id": "34a296bf-cf8a-4914-94fe-e51beffe717a",
   "metadata": {},
   "outputs": [
    {
     "data": {
      "text/plain": [
       "(6, 31)"
      ]
     },
     "execution_count": 31,
     "metadata": {},
     "output_type": "execute_result"
    }
   ],
   "source": [
    "calendar.monthrange(2000,10)"
   ]
  },
  {
   "cell_type": "code",
   "execution_count": null,
   "id": "bb16e02e-fe91-498a-b44c-c286ddf7a727",
   "metadata": {},
   "outputs": [],
   "source": []
  }
 ],
 "metadata": {
  "kernelspec": {
   "display_name": "climetlab",
   "language": "python",
   "name": "climetlab"
  },
  "language_info": {
   "codemirror_mode": {
    "name": "ipython",
    "version": 3
   },
   "file_extension": ".py",
   "mimetype": "text/x-python",
   "name": "python",
   "nbconvert_exporter": "python",
   "pygments_lexer": "ipython3",
   "version": "3.8.5"
  }
 },
 "nbformat": 4,
 "nbformat_minor": 5
}
