{
 "cells": [
  {
   "cell_type": "code",
   "execution_count": 25,
   "id": "quality-checkout",
   "metadata": {},
   "outputs": [],
   "source": [
    "#!pip install climetlab\n",
    "#!pip install climetlab_cems_flood==0.0.5"
   ]
  },
  {
   "cell_type": "code",
   "execution_count": 26,
   "id": "harmful-hungary",
   "metadata": {},
   "outputs": [],
   "source": [
    "import climetlab as cml\n",
    "import climetlab_cems_flood as cems"
   ]
  },
  {
   "cell_type": "code",
   "execution_count": 27,
   "id": "46845332-5aa4-4b1f-a600-32102343ed91",
   "metadata": {},
   "outputs": [
    {
     "data": {
      "text/plain": [
       "'0.0.11+0.g7aca9e7.dirty'"
      ]
     },
     "execution_count": 27,
     "metadata": {},
     "output_type": "execute_result"
    }
   ],
   "source": [
    "cems.__version__"
   ]
  },
  {
   "cell_type": "code",
   "execution_count": 28,
   "id": "5ac49751-35a8-40aa-a4e2-8d1dc8ce8d01",
   "metadata": {},
   "outputs": [
    {
     "name": "stdout",
     "output_type": "stream",
     "text": [
      "ls: cannot access '/tmp/climetlab-iff/': No such file or directory\n"
     ]
    }
   ],
   "source": [
    "!ls -lh /tmp/climetlab-iff/"
   ]
  },
  {
   "cell_type": "code",
   "execution_count": 29,
   "id": "ranking-murder",
   "metadata": {},
   "outputs": [],
   "source": [
    "import entrypoints"
   ]
  },
  {
   "cell_type": "code",
   "execution_count": 30,
   "id": "accurate-projection",
   "metadata": {},
   "outputs": [
    {
     "data": {
      "text/plain": [
       "[EntryPoint('cems-flood-glofas-forecast', 'climetlab_cems_flood.glofas_forecast', 'GlofasForecast', None),\n",
       " EntryPoint('cems-flood-glofas-historical', 'climetlab_cems_flood.glofas_historical', 'GlofasHistorical', None)]"
      ]
     },
     "execution_count": 30,
     "metadata": {},
     "output_type": "execute_result"
    }
   ],
   "source": [
    "entrypoints.get_group_all(f\"climetlab.datasets\")"
   ]
  },
  {
   "cell_type": "code",
   "execution_count": 31,
   "id": "b3e6721f-b3f3-4694-9281-40a7e911dfc1",
   "metadata": {},
   "outputs": [
    {
     "name": "stdout",
     "output_type": "stream",
     "text": [
      "By downloading data from this dataset, you agree to the terms and conditions defined at https://github.com/ecmwf-lab/climetlab_cems_flood/LICENSEIf you do not agree with such terms, do not download the data. \n"
     ]
    }
   ],
   "source": [
    "gl_forecast = cml.load_dataset(\n",
    "            'cems-flood-glofas-forecast',\n",
    "            model='htessel_lisflood',\n",
    "            product_type='control_forecast',\n",
    "            system_version='version_2_1',\n",
    "            period='2020*01',\n",
    "            leadtime='24-72',\n",
    "            variable=\"river_discharge_in_the_last_24_hours\"\n",
    "        )"
   ]
  },
  {
   "cell_type": "code",
   "execution_count": 65,
   "id": "c70d29d6-44ff-4b61-98ce-76191267ed47",
   "metadata": {},
   "outputs": [
    {
     "data": {
      "text/plain": [
       "'<climetlab_cems_flood.glofas_forecast.GlofasForecast object at 0x7f86e4043400>'"
      ]
     },
     "execution_count": 65,
     "metadata": {},
     "output_type": "execute_result"
    }
   ],
   "source": [
    "gl_forecast.__repr__()"
   ]
  },
  {
   "cell_type": "code",
   "execution_count": 57,
   "id": "5e723cf9-14d4-4c49-876d-6af052dc9544",
   "metadata": {},
   "outputs": [],
   "source": [
    "ds = gl_forecast.to_xarray()"
   ]
  },
  {
   "cell_type": "code",
   "execution_count": 24,
   "id": "d3c284ac-2c49-4e71-b1ad-e5466c34859e",
   "metadata": {},
   "outputs": [
    {
     "ename": "NameError",
     "evalue": "name 'cml' is not defined",
     "output_type": "error",
     "traceback": [
      "\u001b[0;31m---------------------------------------------------------------------------\u001b[0m",
      "\u001b[0;31mNameError\u001b[0m                                 Traceback (most recent call last)",
      "\u001b[0;32m<ipython-input-24-d4a8be974dc5>\u001b[0m in \u001b[0;36m<module>\u001b[0;34m\u001b[0m\n\u001b[0;32m----> 1\u001b[0;31m cmlds = cml.load_dataset(\n\u001b[0m\u001b[1;32m      2\u001b[0m             \u001b[0;34m'cems-flood-glofas-historical'\u001b[0m\u001b[0;34m,\u001b[0m\u001b[0;34m\u001b[0m\u001b[0;34m\u001b[0m\u001b[0m\n\u001b[1;32m      3\u001b[0m             \u001b[0mmodel\u001b[0m\u001b[0;34m=\u001b[0m\u001b[0;34m'htessel_lisflood'\u001b[0m\u001b[0;34m,\u001b[0m\u001b[0;34m\u001b[0m\u001b[0;34m\u001b[0m\u001b[0m\n\u001b[1;32m      4\u001b[0m             \u001b[0mproduct_type\u001b[0m\u001b[0;34m=\u001b[0m\u001b[0;34m'consolidated'\u001b[0m\u001b[0;34m,\u001b[0m\u001b[0;34m\u001b[0m\u001b[0;34m\u001b[0m\u001b[0m\n\u001b[1;32m      5\u001b[0m             \u001b[0msystem_version\u001b[0m\u001b[0;34m=\u001b[0m\u001b[0;34m'version_2_1'\u001b[0m\u001b[0;34m,\u001b[0m\u001b[0;34m\u001b[0m\u001b[0;34m\u001b[0m\u001b[0m\n",
      "\u001b[0;31mNameError\u001b[0m: name 'cml' is not defined"
     ]
    }
   ],
   "source": [
    "cmlds = cml.load_dataset(\n",
    "            'cems-flood-glofas-historical',\n",
    "            model='htessel_lisflood',\n",
    "            product_type='consolidated',\n",
    "            system_version='version_2_1',\n",
    "            period='2017*01',\n",
    "            variable=\"river_discharge_in_the_last_24_hours\"\n",
    "        )"
   ]
  },
  {
   "cell_type": "code",
   "execution_count": 7,
   "id": "8b14453a-c4b7-4efe-9539-a330d005d113",
   "metadata": {},
   "outputs": [],
   "source": [
    "ds = cmlds.to_xarray()"
   ]
  },
  {
   "cell_type": "code",
   "execution_count": 32,
   "id": "9dfda117-4234-4c57-a3f3-2599a31580f9",
   "metadata": {},
   "outputs": [
    {
     "data": {
      "text/plain": [
       "{'system_version': 'version_2_1',\n",
       " 'hydrological_model': 'htessel_lisflood',\n",
       " 'product_type': 'control_forecast',\n",
       " 'variable': 'river_discharge_in_the_last_24_hours',\n",
       " 'year': ['2020'],\n",
       " 'month': ['01',\n",
       "  '02',\n",
       "  '03',\n",
       "  '04',\n",
       "  '05',\n",
       "  '06',\n",
       "  '07',\n",
       "  '08',\n",
       "  '09',\n",
       "  '10',\n",
       "  '11',\n",
       "  '12'],\n",
       " 'day': ['01'],\n",
       " 'leadtime_hour': ['24', '48', '72'],\n",
       " 'format': 'grib'}"
      ]
     },
     "execution_count": 32,
     "metadata": {},
     "output_type": "execute_result"
    }
   ],
   "source": [
    "gl_forecast.request"
   ]
  },
  {
   "cell_type": "code",
   "execution_count": 91,
   "id": "04ba8959-183e-4021-91e9-18604a7bbd5f",
   "metadata": {},
   "outputs": [],
   "source": [
    "style = \"\"\"\n",
    "    <style>table.climetlab td {\n",
    "    vertical-align: top;\n",
    "    text-align: left !important;}\n",
    "</style>\"\"\"\n",
    "\n",
    "class S:\n",
    "    a = 10\n",
    "    d = \"-\"\n",
    "    \n",
    "\n",
    "\n",
    "    def _repr_html_(self):\n",
    "        \n",
    "        li = \"\"\n",
    "        for key in gl_forecast.request:\n",
    "            li += f\"<li> <b>{key}: </b> {gl_forecast.request[key]} </li>\".format()\n",
    "            \n",
    "        return style + f\"\"\"<table class=\"climetlab\"><tr><td><b>Request</b></td><td><ul>{li}</ul></td></tr></table>\"\"\""
   ]
  },
  {
   "cell_type": "code",
   "execution_count": 89,
   "id": "056d886e-1cd9-442c-8f82-c69342ae51fa",
   "metadata": {},
   "outputs": [],
   "source": [
    "a = S()"
   ]
  },
  {
   "cell_type": "code",
   "execution_count": 90,
   "id": "7a8af5ea-c51d-47e7-9799-f3b4bec780b6",
   "metadata": {},
   "outputs": [
    {
     "data": {
      "text/html": [
       "\n",
       "    <style>table.climetlab td {\n",
       "    vertical-align: top;\n",
       "    text-align: left !important;}\n",
       "</style><table class=\"climetlab\"><tr><td><b>Request</b></td><td><ul><li> <b>system_version: </b> version_2_1 </li><li> <b>hydrological_model: </b> htessel_lisflood </li><li> <b>product_type: </b> control_forecast </li><li> <b>variable: </b> river_discharge_in_the_last_24_hours </li><li> <b>year: </b> ['2020'] </li><li> <b>month: </b> ['01', '02', '03', '04', '05', '06', '07', '08', '09', '10', '11', '12'] </li><li> <b>day: </b> ['01'] </li><li> <b>leadtime_hour: </b> ['24', '48', '72'] </li><li> <b>format: </b> grib </li></ul></td></tr></table>"
      ],
      "text/plain": [
       "<__main__.S at 0x7f894ef414c0>"
      ]
     },
     "execution_count": 90,
     "metadata": {},
     "output_type": "execute_result"
    }
   ],
   "source": [
    "a"
   ]
  },
  {
   "cell_type": "code",
   "execution_count": 87,
   "id": "48bd95cf-97d1-4867-91e7-c7b29c366857",
   "metadata": {},
   "outputs": [
    {
     "ename": "AttributeError",
     "evalue": "type object 'S' has no attribute 'io'",
     "output_type": "error",
     "traceback": [
      "\u001b[0;31m---------------------------------------------------------------------------\u001b[0m",
      "\u001b[0;31mAttributeError\u001b[0m                            Traceback (most recent call last)",
      "\u001b[0;32m<ipython-input-87-204b1bfabd52>\u001b[0m in \u001b[0;36m<module>\u001b[0;34m\u001b[0m\n\u001b[0;32m----> 1\u001b[0;31m \u001b[0mS\u001b[0m\u001b[0;34m.\u001b[0m\u001b[0mio\u001b[0m\u001b[0;34m\u001b[0m\u001b[0;34m\u001b[0m\u001b[0m\n\u001b[0m",
      "\u001b[0;31mAttributeError\u001b[0m: type object 'S' has no attribute 'io'"
     ]
    }
   ],
   "source": [
    "S.io"
   ]
  },
  {
   "cell_type": "code",
   "execution_count": null,
   "id": "7607ef0b-6db8-496f-92d5-bc94e87ad7e3",
   "metadata": {},
   "outputs": [],
   "source": []
  }
 ],
 "metadata": {
  "kernelspec": {
   "display_name": "climetlab",
   "language": "python",
   "name": "climetlab"
  },
  "language_info": {
   "codemirror_mode": {
    "name": "ipython",
    "version": 3
   },
   "file_extension": ".py",
   "mimetype": "text/x-python",
   "name": "python",
   "nbconvert_exporter": "python",
   "pygments_lexer": "ipython3",
   "version": "3.8.8"
  }
 },
 "nbformat": 4,
 "nbformat_minor": 5
}
