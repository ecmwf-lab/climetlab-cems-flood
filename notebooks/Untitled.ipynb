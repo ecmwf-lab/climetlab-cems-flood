{
 "cells": [
  {
   "cell_type": "code",
   "execution_count": 3,
   "id": "1a7fd757-4472-484a-b9e0-b65ceac4214d",
   "metadata": {},
   "outputs": [],
   "source": [
    "from multiprocessing.connection import _ForkingPickler\n",
    "\n",
    "def foo(x):\n",
    "    pass\n",
    "\n",
    "def run():\n",
    "    _ForkingPickler.dumps(foo)  # multiprocessing custom pickler;\n",
    "                                # same effect with pickle.dumps(foo)\n",
    "\n",
    "run()"
   ]
  },
  {
   "cell_type": "code",
   "execution_count": 23,
   "id": "b40cdc64-4f3e-4d80-8ae8-9389f27d73cc",
   "metadata": {},
   "outputs": [],
   "source": [
    "class RUN:\n",
    "    \n",
    "    global foo\n",
    "    \n",
    "    def __init__(self):\n",
    "        pass\n",
    "    \n",
    "    def foo(x):\n",
    "        pass\n",
    "\n",
    "    _ForkingPickler.dumps(foo)  # multiprocessing custom pickler;\n",
    "                                # same effect with pickle.dumps(foo)\n",
    "\n"
   ]
  },
  {
   "cell_type": "code",
   "execution_count": 277,
   "id": "786eedc9-1d82-4fbf-9e1f-6408ccc07b98",
   "metadata": {},
   "outputs": [],
   "source": [
    "d1 = {\n",
    "    #\"blum\":[1,2,3,4],\n",
    "    \"force\": {\n",
    "        \"class\": [\n",
    "            \"ce\"\n",
    "        ],\n",
    "        \"database\": \"ecmwf\",\n",
    "        \"expect\": [\n",
    "            \"any\"\n",
    "        ],\n",
    "        \"expver\": [\n",
    "            \"1\"\n",
    "        ],\n",
    "        \"model\": [\n",
    "            \"lisflood\"\n",
    "        ],\n",
    "        \"number\": [\n",
    "            \"all\"\n",
    "        ],\n",
    "        \"stream\": [\n",
    "            \"efcl\"\n",
    "        ],\n",
    "        \"type\": [\n",
    "            \"sfo\"\n",
    "        ]\n",
    "    },\n",
    "    \n",
    "    \"options\": {\n",
    "        #\"hdate_format\": \"%Y%m%d\",\n",
    "        \"selection_limit_ignore\": [\n",
    "            \"area\",\n",
    "            \"grid\",\n",
    "            \"gnegen\"\n",
    "        ],\n",
    "        \"wants_dates\": True\n",
    "    },\n",
    "    \"remap\": {\n",
    "        \"sticaz\":{\"ao\":\"ai\"},\n",
    "        \"hmonth\": {\n",
    "            \"april\": \"04\",\n",
    "            \"august\": \"08\",\n",
    "            \"december\": \"12\",\n",
    "            \"february\": \"02\",\n",
    "            \"january\": \"01\",\n",
    "            \"july\": \"07\",\n",
    "            \"june\": \"06\",\n",
    "            \"march\": \"03\",\n",
    "            \"may\": \"05\",\n",
    "            \"november\": \"11\",\n",
    "            \"october\": \"10\",\n",
    "            \"september\": \"09\"\n",
    "        },\n",
    "        \"model_levels\": {\n",
    "            \"soil_levels\": \"sol\",\n",
    "            \"surface_level\": \"sfc\"\n",
    "        },\n",
    "        \"product_type\": {\n",
    "            \"simulation_forced_with_observations\": \"sfo\"\n",
    "        },\n",
    "        \"system_version\": {\n",
    "            \"version_2_0\": \"2018-10-10\",\n",
    "            \"version_3_0\": \"2019-05-13\",\n",
    "            \"version_3_5\": \"2020-03-05\",\n",
    "            \"version_4_0\": \"2020-10-14\"\n",
    "        },\n",
    "        \"time\": {\n",
    "            \"00:00\": \"00:00:00\",\n",
    "            \"06:00\": \"06:00:00\",\n",
    "            \"12:00\": \"12:00:00\",\n",
    "            \"18:00\": \"18:00:00\"\n",
    "        },\n",
    "        \"variable\": {\n",
    "            \"river_discharge_in_the_last_24_hours\": \"240024\",\n",
    "            \"river_discharge_in_the_last_6_hours\": \"240023\",\n",
    "            \"snow_depth_water_equivalent\": \"228141\",\n",
    "            \"soil_depth\": \"260367\",\n",
    "            \"volumetric_soil_moisture\": \"260199\"\n",
    "        }\n",
    "    },\n",
    "    \"rename\": {\n",
    "        \"whatever\":\"ciciobell\",\n",
    "        \"leadtime_hour\": \"step\",\n",
    "        \"model_levels\": \"levtype\",\n",
    "        \"originating_centre\": \"origin\",\n",
    "        \"product_type\": \"type\",\n",
    "        \"soil_level\": \"levelist\",\n",
    "        \"system_version\": \"date\",\n",
    "        \"variable\": \"param\"\n",
    "    },\n",
    "    #\"selection_limit\": 10\n",
    "}\n"
   ]
  },
  {
   "cell_type": "code",
   "execution_count": 278,
   "id": "81000ecf-49a9-4e3a-97ff-b9a1cf51b970",
   "metadata": {},
   "outputs": [],
   "source": [
    "d2 = {\n",
    "    #\"blum\":[1,2,3],\n",
    "    \"force\": {\n",
    "        \"class2\": [\n",
    "            \"ce\"\n",
    "        ],\n",
    "        \"database\": \"ecmwf\",\n",
    "        \"expect\": [\n",
    "            \"any\"\n",
    "        ],\n",
    "        \"expver\": [\n",
    "            \"1\"\n",
    "        ],\n",
    "        \"model\": [\n",
    "            \"lisflood\"\n",
    "        ],\n",
    "        \"number\": [\n",
    "            \"all\"\n",
    "        ],\n",
    "        \"stream\": [\n",
    "            \"efcl\"\n",
    "        ],\n",
    "        \"type\": [\n",
    "            \"sfo\"\n",
    "        ]\n",
    "    },\n",
    "    \"anotherkey\":{\"dsa\":32},\n",
    "    \"options\": {\n",
    "        \"hdate_format\": \"%Y%m%d\",\n",
    "        \"selection_limit_ignore\": [\n",
    "            \"area\",\n",
    "            \"grid\"\n",
    "        ],\n",
    "        \"wants_dates\": True\n",
    "    },\n",
    "    \"remap\": {\n",
    "        \"hmonth\": {\n",
    "            \"april\": \"04\",\n",
    "            \"august\": \"08\",\n",
    "            \"december\": \"12\",\n",
    "            \"february\": \"02\",\n",
    "            \"january\": \"01\",\n",
    "            \"july\": \"07\",\n",
    "            \"june\": \"06\",\n",
    "            \"march\": \"03\",\n",
    "            \"may\": \"05\",\n",
    "            \"november\": \"11\",\n",
    "            \"october\": \"10\",\n",
    "            \"september\": \"09\"\n",
    "        },\n",
    "        \"model_levels\": {\n",
    "            \"soil_levels\": \"sol\",\n",
    "            \"surface_level\": \"sfc\"\n",
    "        },\n",
    "        \"product_type\": {\n",
    "            \"simulation_forced_with_observations\": \"sfo\"\n",
    "        },\n",
    "        \"system_version\": {\n",
    "            \"version_2_0\": \"2018-10-10\",\n",
    "            \"version_3_0\": \"2019-05-13\",\n",
    "            \"version_3_5\": \"2020-03-05\",\n",
    "            \"version_4_0\": \"2020-10-14\"\n",
    "        },\n",
    "        \"time\": {\n",
    "            \"00:00\": \"00:00:00\",\n",
    "            \"06:00\": \"06:00:00\",\n",
    "            \"12:00\": \"12:00:00\",\n",
    "            \"18:00\": \"18:00:00\"\n",
    "        },\n",
    "        \"variable\": {\n",
    "            \"river_discharge_in_the_last_24_hours\": \"240024\",\n",
    "            \"river_discharge_in_the_last_6_hours\": \"240023\",\n",
    "            \"snow_depth_water_equivalent\": \"228141\",\n",
    "            \"soil_depth\": \"260367\",\n",
    "            \"volumetric_soil_moisture\": \"260199\"\n",
    "        }\n",
    "    },\n",
    "    \"rename\": {\n",
    "        \"leadtime_hour\": \"step\",\n",
    "        \"model_levels\": \"levtype\",\n",
    "        \"originating_centre\": \"origin\",\n",
    "        \"product_type\": \"type\",\n",
    "        \"soil_level\": \"levelist\",\n",
    "        \"system_version\": \"date\",\n",
    "        \"variable\": \"param\"\n",
    "    },\n",
    "    \"selection_limit\": 1500\n",
    "}\n"
   ]
  },
  {
   "cell_type": "code",
   "execution_count": 279,
   "id": "68fbec39-ac08-439d-9647-9f6fe9572d51",
   "metadata": {},
   "outputs": [],
   "source": [
    "mappings = [d1,d2]"
   ]
  },
  {
   "cell_type": "code",
   "execution_count": null,
   "id": "f262d6d1-a761-4aae-b790-101f6047dccc",
   "metadata": {},
   "outputs": [],
   "source": []
  },
  {
   "cell_type": "code",
   "execution_count": 280,
   "id": "8fdf3c43-d0b0-40ee-8c87-69859c437f4d",
   "metadata": {},
   "outputs": [],
   "source": [
    "BLA = {}\n",
    "\n",
    "def check(mappings):\n",
    "    \n",
    "    # get shared keys   \n",
    "    keys = []\n",
    "    for i in mappings:\n",
    "        keys.extend(list(i.keys()))\n",
    "    \n",
    "\n",
    "    a = set()\n",
    "    for k1 in keys:\n",
    "        if keys.count(k1) > 1:\n",
    "            a.add(k1)\n",
    "    \n",
    "    print(f\"shared keys: {a}\\n\")\n",
    "    \n",
    "    if len(a) == 0:\n",
    "        return 0\n",
    "    \n",
    "    ls = {}\n",
    "    di = []\n",
    "    for i in a:\n",
    "        ls_ = []\n",
    "        for n,d in enumerate(mappings):\n",
    "            try:\n",
    "                print(d[i],\"\\n\")\n",
    "                if isinstance(d[i],list):\n",
    "                    ls[i] = ls_\n",
    "                    ls[i].extend(d[i])\n",
    "                elif isinstance(d[i],dict):\n",
    "                    #di[i] = di_\n",
    "                    di.append(d[i])\n",
    "                else:\n",
    "                    raise ValueError(f\"values will be overrided for key: {i}\")\n",
    "            except KeyError:\n",
    "                pass\n",
    "            except ValueError as e:\n",
    "                raise e\n",
    "            \n",
    "\n",
    "\n",
    "                \n",
    "    # # dict\n",
    "    \n",
    "    # # list\n",
    "    for k in ls:\n",
    "        if len(ls[k]) > len(set(ls[k])):\n",
    "            #raise ValueError(f\"same values in adaptors for key: {ls[k]} {set(ls[k])}\")\n",
    "            BLA.append(ls)\n",
    "        else:\n",
    "            BLA.append(ls)\n",
    "\n",
    "    print(di,\"\\n\")\n",
    "    # # dict\n",
    "    check(di)\n",
    "    \n",
    "    "
   ]
  },
  {
   "cell_type": "code",
   "execution_count": 281,
   "id": "ebf4219b-b413-4388-b859-0360735e8ae2",
   "metadata": {},
   "outputs": [
    {
     "name": "stdout",
     "output_type": "stream",
     "text": [
      "shared keys: {'force', 'rename', 'remap', 'options'}\n",
      "\n",
      "{'class': ['ce'], 'database': 'ecmwf', 'expect': ['any'], 'expver': ['1'], 'model': ['lisflood'], 'number': ['all'], 'stream': ['efcl'], 'type': ['sfo']} \n",
      "\n",
      "{'class2': ['ce'], 'database': 'ecmwf', 'expect': ['any'], 'expver': ['1'], 'model': ['lisflood'], 'number': ['all'], 'stream': ['efcl'], 'type': ['sfo']} \n",
      "\n",
      "{'whatever': 'ciciobell', 'leadtime_hour': 'step', 'model_levels': 'levtype', 'originating_centre': 'origin', 'product_type': 'type', 'soil_level': 'levelist', 'system_version': 'date', 'variable': 'param'} \n",
      "\n",
      "{'leadtime_hour': 'step', 'model_levels': 'levtype', 'originating_centre': 'origin', 'product_type': 'type', 'soil_level': 'levelist', 'system_version': 'date', 'variable': 'param'} \n",
      "\n",
      "{'sticaz': {'ao': 'ai'}, 'hmonth': {'april': '04', 'august': '08', 'december': '12', 'february': '02', 'january': '01', 'july': '07', 'june': '06', 'march': '03', 'may': '05', 'november': '11', 'october': '10', 'september': '09'}, 'model_levels': {'soil_levels': 'sol', 'surface_level': 'sfc'}, 'product_type': {'simulation_forced_with_observations': 'sfo'}, 'system_version': {'version_2_0': '2018-10-10', 'version_3_0': '2019-05-13', 'version_3_5': '2020-03-05', 'version_4_0': '2020-10-14'}, 'time': {'00:00': '00:00:00', '06:00': '06:00:00', '12:00': '12:00:00', '18:00': '18:00:00'}, 'variable': {'river_discharge_in_the_last_24_hours': '240024', 'river_discharge_in_the_last_6_hours': '240023', 'snow_depth_water_equivalent': '228141', 'soil_depth': '260367', 'volumetric_soil_moisture': '260199'}} \n",
      "\n",
      "{'hmonth': {'april': '04', 'august': '08', 'december': '12', 'february': '02', 'january': '01', 'july': '07', 'june': '06', 'march': '03', 'may': '05', 'november': '11', 'october': '10', 'september': '09'}, 'model_levels': {'soil_levels': 'sol', 'surface_level': 'sfc'}, 'product_type': {'simulation_forced_with_observations': 'sfo'}, 'system_version': {'version_2_0': '2018-10-10', 'version_3_0': '2019-05-13', 'version_3_5': '2020-03-05', 'version_4_0': '2020-10-14'}, 'time': {'00:00': '00:00:00', '06:00': '06:00:00', '12:00': '12:00:00', '18:00': '18:00:00'}, 'variable': {'river_discharge_in_the_last_24_hours': '240024', 'river_discharge_in_the_last_6_hours': '240023', 'snow_depth_water_equivalent': '228141', 'soil_depth': '260367', 'volumetric_soil_moisture': '260199'}} \n",
      "\n",
      "{'selection_limit_ignore': ['area', 'grid', 'gnegen'], 'wants_dates': True} \n",
      "\n",
      "{'hdate_format': '%Y%m%d', 'selection_limit_ignore': ['area', 'grid'], 'wants_dates': True} \n",
      "\n",
      "[{'class': ['ce'], 'database': 'ecmwf', 'expect': ['any'], 'expver': ['1'], 'model': ['lisflood'], 'number': ['all'], 'stream': ['efcl'], 'type': ['sfo']}, {'class2': ['ce'], 'database': 'ecmwf', 'expect': ['any'], 'expver': ['1'], 'model': ['lisflood'], 'number': ['all'], 'stream': ['efcl'], 'type': ['sfo']}, {'whatever': 'ciciobell', 'leadtime_hour': 'step', 'model_levels': 'levtype', 'originating_centre': 'origin', 'product_type': 'type', 'soil_level': 'levelist', 'system_version': 'date', 'variable': 'param'}, {'leadtime_hour': 'step', 'model_levels': 'levtype', 'originating_centre': 'origin', 'product_type': 'type', 'soil_level': 'levelist', 'system_version': 'date', 'variable': 'param'}, {'sticaz': {'ao': 'ai'}, 'hmonth': {'april': '04', 'august': '08', 'december': '12', 'february': '02', 'january': '01', 'july': '07', 'june': '06', 'march': '03', 'may': '05', 'november': '11', 'october': '10', 'september': '09'}, 'model_levels': {'soil_levels': 'sol', 'surface_level': 'sfc'}, 'product_type': {'simulation_forced_with_observations': 'sfo'}, 'system_version': {'version_2_0': '2018-10-10', 'version_3_0': '2019-05-13', 'version_3_5': '2020-03-05', 'version_4_0': '2020-10-14'}, 'time': {'00:00': '00:00:00', '06:00': '06:00:00', '12:00': '12:00:00', '18:00': '18:00:00'}, 'variable': {'river_discharge_in_the_last_24_hours': '240024', 'river_discharge_in_the_last_6_hours': '240023', 'snow_depth_water_equivalent': '228141', 'soil_depth': '260367', 'volumetric_soil_moisture': '260199'}}, {'hmonth': {'april': '04', 'august': '08', 'december': '12', 'february': '02', 'january': '01', 'july': '07', 'june': '06', 'march': '03', 'may': '05', 'november': '11', 'october': '10', 'september': '09'}, 'model_levels': {'soil_levels': 'sol', 'surface_level': 'sfc'}, 'product_type': {'simulation_forced_with_observations': 'sfo'}, 'system_version': {'version_2_0': '2018-10-10', 'version_3_0': '2019-05-13', 'version_3_5': '2020-03-05', 'version_4_0': '2020-10-14'}, 'time': {'00:00': '00:00:00', '06:00': '06:00:00', '12:00': '12:00:00', '18:00': '18:00:00'}, 'variable': {'river_discharge_in_the_last_24_hours': '240024', 'river_discharge_in_the_last_6_hours': '240023', 'snow_depth_water_equivalent': '228141', 'soil_depth': '260367', 'volumetric_soil_moisture': '260199'}}, {'selection_limit_ignore': ['area', 'grid', 'gnegen'], 'wants_dates': True}, {'hdate_format': '%Y%m%d', 'selection_limit_ignore': ['area', 'grid'], 'wants_dates': True}] \n",
      "\n",
      "shared keys: {'model', 'expver', 'type', 'stream', 'leadtime_hour', 'product_type', 'system_version', 'hmonth', 'expect', 'number', 'selection_limit_ignore', 'model_levels', 'wants_dates', 'soil_level', 'originating_centre', 'database', 'time', 'variable'}\n",
      "\n",
      "['lisflood'] \n",
      "\n",
      "['lisflood'] \n",
      "\n",
      "['1'] \n",
      "\n",
      "['1'] \n",
      "\n",
      "['sfo'] \n",
      "\n",
      "['sfo'] \n",
      "\n",
      "['efcl'] \n",
      "\n",
      "['efcl'] \n",
      "\n",
      "step \n",
      "\n"
     ]
    },
    {
     "ename": "ValueError",
     "evalue": "values will be overrided for key: leadtime_hour",
     "output_type": "error",
     "traceback": [
      "\u001b[0;31m---------------------------------------------------------------------------\u001b[0m",
      "\u001b[0;31mValueError\u001b[0m                                Traceback (most recent call last)",
      "\u001b[0;32m<ipython-input-281-dd76e055fa4d>\u001b[0m in \u001b[0;36m<module>\u001b[0;34m\u001b[0m\n\u001b[0;32m----> 1\u001b[0;31m \u001b[0mcheck\u001b[0m\u001b[0;34m(\u001b[0m\u001b[0mmappings\u001b[0m\u001b[0;34m)\u001b[0m\u001b[0;34m\u001b[0m\u001b[0;34m\u001b[0m\u001b[0m\n\u001b[0m",
      "\u001b[0;32m<ipython-input-280-1d3ff677fc4c>\u001b[0m in \u001b[0;36mcheck\u001b[0;34m(mappings)\u001b[0m\n\u001b[1;32m     56\u001b[0m     \u001b[0mprint\u001b[0m\u001b[0;34m(\u001b[0m\u001b[0mdi\u001b[0m\u001b[0;34m,\u001b[0m\u001b[0;34m\"\\n\"\u001b[0m\u001b[0;34m)\u001b[0m\u001b[0;34m\u001b[0m\u001b[0;34m\u001b[0m\u001b[0m\n\u001b[1;32m     57\u001b[0m     \u001b[0;31m# # dict\u001b[0m\u001b[0;34m\u001b[0m\u001b[0;34m\u001b[0m\u001b[0;34m\u001b[0m\u001b[0m\n\u001b[0;32m---> 58\u001b[0;31m     \u001b[0mcheck\u001b[0m\u001b[0;34m(\u001b[0m\u001b[0mdi\u001b[0m\u001b[0;34m)\u001b[0m\u001b[0;34m\u001b[0m\u001b[0;34m\u001b[0m\u001b[0m\n\u001b[0m\u001b[1;32m     59\u001b[0m \u001b[0;34m\u001b[0m\u001b[0m\n\u001b[1;32m     60\u001b[0m \u001b[0;34m\u001b[0m\u001b[0m\n",
      "\u001b[0;32m<ipython-input-280-1d3ff677fc4c>\u001b[0m in \u001b[0;36mcheck\u001b[0;34m(mappings)\u001b[0m\n\u001b[1;32m     39\u001b[0m                 \u001b[0;32mpass\u001b[0m\u001b[0;34m\u001b[0m\u001b[0;34m\u001b[0m\u001b[0m\n\u001b[1;32m     40\u001b[0m             \u001b[0;32mexcept\u001b[0m \u001b[0mValueError\u001b[0m \u001b[0;32mas\u001b[0m \u001b[0me\u001b[0m\u001b[0;34m:\u001b[0m\u001b[0;34m\u001b[0m\u001b[0;34m\u001b[0m\u001b[0m\n\u001b[0;32m---> 41\u001b[0;31m                 \u001b[0;32mraise\u001b[0m \u001b[0me\u001b[0m\u001b[0;34m\u001b[0m\u001b[0;34m\u001b[0m\u001b[0m\n\u001b[0m\u001b[1;32m     42\u001b[0m \u001b[0;34m\u001b[0m\u001b[0m\n\u001b[1;32m     43\u001b[0m \u001b[0;34m\u001b[0m\u001b[0m\n",
      "\u001b[0;32m<ipython-input-280-1d3ff677fc4c>\u001b[0m in \u001b[0;36mcheck\u001b[0;34m(mappings)\u001b[0m\n\u001b[1;32m     35\u001b[0m                     \u001b[0mdi\u001b[0m\u001b[0;34m.\u001b[0m\u001b[0mappend\u001b[0m\u001b[0;34m(\u001b[0m\u001b[0md\u001b[0m\u001b[0;34m[\u001b[0m\u001b[0mi\u001b[0m\u001b[0;34m]\u001b[0m\u001b[0;34m)\u001b[0m\u001b[0;34m\u001b[0m\u001b[0;34m\u001b[0m\u001b[0m\n\u001b[1;32m     36\u001b[0m                 \u001b[0;32melse\u001b[0m\u001b[0;34m:\u001b[0m\u001b[0;34m\u001b[0m\u001b[0;34m\u001b[0m\u001b[0m\n\u001b[0;32m---> 37\u001b[0;31m                     \u001b[0;32mraise\u001b[0m \u001b[0mValueError\u001b[0m\u001b[0;34m(\u001b[0m\u001b[0;34mf\"values will be overrided for key: {i}\"\u001b[0m\u001b[0;34m)\u001b[0m\u001b[0;34m\u001b[0m\u001b[0;34m\u001b[0m\u001b[0m\n\u001b[0m\u001b[1;32m     38\u001b[0m             \u001b[0;32mexcept\u001b[0m \u001b[0mKeyError\u001b[0m\u001b[0;34m:\u001b[0m\u001b[0;34m\u001b[0m\u001b[0;34m\u001b[0m\u001b[0m\n\u001b[1;32m     39\u001b[0m                 \u001b[0;32mpass\u001b[0m\u001b[0;34m\u001b[0m\u001b[0;34m\u001b[0m\u001b[0m\n",
      "\u001b[0;31mValueError\u001b[0m: values will be overrided for key: leadtime_hour"
     ]
    }
   ],
   "source": [
    "check(mappings)"
   ]
  },
  {
   "cell_type": "code",
   "execution_count": 282,
   "id": "23c5a778-b4ea-4138-af1a-8d7d3c083519",
   "metadata": {},
   "outputs": [
    {
     "data": {
      "text/plain": [
       "[]"
      ]
     },
     "execution_count": 282,
     "metadata": {},
     "output_type": "execute_result"
    }
   ],
   "source": [
    "BLA"
   ]
  },
  {
   "cell_type": "code",
   "execution_count": 274,
   "id": "cd25cc88-dc3a-4c78-9247-375f7070bb3f",
   "metadata": {},
   "outputs": [
    {
     "name": "stdout",
     "output_type": "stream",
     "text": [
      "B\n",
      "C\n",
      "D\n"
     ]
    }
   ],
   "source": [
    "class B(Exception):\n",
    "    pass\n",
    "\n",
    "class C(B):\n",
    "    pass\n",
    "\n",
    "class D(C):\n",
    "    pass\n",
    "\n",
    "for cls in [B, C, D]:\n",
    "    try:\n",
    "        raise cls()\n",
    "    except D:\n",
    "        print(\"D\")\n",
    "    except C:\n",
    "        print(\"C\")\n",
    "    except B:\n",
    "        print(\"B\")"
   ]
  },
  {
   "cell_type": "code",
   "execution_count": 283,
   "id": "f7b4ef38-dd59-4796-ae0c-68feb268d1ef",
   "metadata": {},
   "outputs": [],
   "source": [
    "a = {\"a\":10}"
   ]
  },
  {
   "cell_type": "code",
   "execution_count": 284,
   "id": "51d2084c-5169-4de3-972e-47f2e9eab04c",
   "metadata": {},
   "outputs": [],
   "source": [
    "b = {\"b\":10}\n",
    "c = {\"c\":10}"
   ]
  },
  {
   "cell_type": "code",
   "execution_count": 289,
   "id": "cc46e999-0a91-42ec-b046-27e063acd5ba",
   "metadata": {},
   "outputs": [],
   "source": [
    "d = [a,b,c]"
   ]
  },
  {
   "cell_type": "code",
   "execution_count": 292,
   "id": "9c7b4df4-0935-466e-8ae4-b565bbc358f8",
   "metadata": {},
   "outputs": [
    {
     "ename": "SyntaxError",
     "evalue": "invalid syntax (<ipython-input-292-39bdc70cd138>, line 1)",
     "output_type": "error",
     "traceback": [
      "\u001b[0;36m  File \u001b[0;32m\"<ipython-input-292-39bdc70cd138>\"\u001b[0;36m, line \u001b[0;32m1\u001b[0m\n\u001b[0;31m    [**i for i in d]\u001b[0m\n\u001b[0m     ^\u001b[0m\n\u001b[0;31mSyntaxError\u001b[0m\u001b[0;31m:\u001b[0m invalid syntax\n"
     ]
    }
   ],
   "source": [
    "[**i for i in d]"
   ]
  },
  {
   "cell_type": "code",
   "execution_count": 294,
   "id": "3b96bb45-fbb9-4bc7-bad9-6d7ba26edac1",
   "metadata": {},
   "outputs": [],
   "source": [
    "t = (1,2)"
   ]
  },
  {
   "cell_type": "code",
   "execution_count": 312,
   "id": "9c775664-8e18-4dcc-ba5d-eac904f15477",
   "metadata": {},
   "outputs": [],
   "source": [
    "OUT= {}"
   ]
  },
  {
   "cell_type": "code",
   "execution_count": 313,
   "id": "060a68fc-889d-4f1e-949c-c67ef7a8d067",
   "metadata": {},
   "outputs": [],
   "source": [
    "keys = [\"a\",\"b\"]\n",
    "values = [[1,2,3],[2,3,4],[5,6,7],[\"ds\",\"ds\"],[\"ds\",\"ds\"],[\"ds\",\"ds\"]]\n",
    "n =3\n",
    "for i,k in enumerate(keys):\n",
    "    s = slice(i*n,i*n+n)\n",
    "    l = values[s]\n",
    "    \n",
    "    f= []\n",
    "    for i in l:\n",
    "        f.extend(i)\n",
    "    OUT[k] = list(set(f))"
   ]
  },
  {
   "cell_type": "code",
   "execution_count": 314,
   "id": "a9cca4fc-1357-4c8b-91a2-f9afb79cfdcd",
   "metadata": {},
   "outputs": [
    {
     "data": {
      "text/plain": [
       "{'a': [1, 2, 3, 4, 5, 6, 7], 'b': ['ds']}"
      ]
     },
     "execution_count": 314,
     "metadata": {},
     "output_type": "execute_result"
    }
   ],
   "source": [
    "OUT"
   ]
  },
  {
   "cell_type": "code",
   "execution_count": 318,
   "id": "30fc64f8-82c8-4a90-b47f-805ed79f7154",
   "metadata": {},
   "outputs": [
    {
     "data": {
      "text/plain": [
       "[2, 3]"
      ]
     },
     "execution_count": 318,
     "metadata": {},
     "output_type": "execute_result"
    }
   ],
   "source": [
    "sorted(set([3,2]))"
   ]
  },
  {
   "cell_type": "code",
   "execution_count": 321,
   "id": "6c390b26-fe63-49ee-ae3f-3ebe75d1e5e5",
   "metadata": {},
   "outputs": [],
   "source": [
    "from flatten_dict import flatten,unflatten"
   ]
  },
  {
   "cell_type": "code",
   "execution_count": 322,
   "id": "e200a8af-becc-4fe9-aee6-020a5ed4e32b",
   "metadata": {},
   "outputs": [
    {
     "data": {
      "text/plain": [
       "{('a',): [1, 2, 3, 4, 5, 6, 7], ('b',): ['ds']}"
      ]
     },
     "execution_count": 322,
     "metadata": {},
     "output_type": "execute_result"
    }
   ],
   "source": [
    "flatten(OUT)"
   ]
  },
  {
   "cell_type": "code",
   "execution_count": 327,
   "id": "331b9a7d-d040-446d-bf3c-9660a2ba5e51",
   "metadata": {},
   "outputs": [],
   "source": [
    "\n",
    "a =1"
   ]
  },
  {
   "cell_type": "code",
   "execution_count": 331,
   "id": "f9280337-54a4-472f-adac-2efabb5ee995",
   "metadata": {},
   "outputs": [],
   "source": [
    "a += 1"
   ]
  },
  {
   "cell_type": "code",
   "execution_count": 332,
   "id": "62bc1925-5972-4294-8a22-533c60d4f200",
   "metadata": {},
   "outputs": [
    {
     "data": {
      "text/plain": [
       "3"
      ]
     },
     "execution_count": 332,
     "metadata": {},
     "output_type": "execute_result"
    }
   ],
   "source": [
    "a"
   ]
  },
  {
   "cell_type": "code",
   "execution_count": 335,
   "id": "11207638-4ef9-4f75-abdf-5e10154b4fa0",
   "metadata": {},
   "outputs": [
    {
     "data": {
      "text/plain": [
       "1"
      ]
     },
     "execution_count": 335,
     "metadata": {},
     "output_type": "execute_result"
    }
   ],
   "source": [
    "len(set([True,True]))"
   ]
  },
  {
   "cell_type": "code",
   "execution_count": 336,
   "id": "59e1ea77-4db8-4213-9f99-772103b2d6ff",
   "metadata": {},
   "outputs": [
    {
     "data": {
      "text/plain": [
       "'dsdds'"
      ]
     },
     "execution_count": 336,
     "metadata": {},
     "output_type": "execute_result"
    }
   ],
   "source": [
    "\"dsd\" + \"ds\""
   ]
  },
  {
   "cell_type": "code",
   "execution_count": null,
   "id": "b699d1fc-2099-435d-bf88-ae10198f1cb8",
   "metadata": {},
   "outputs": [],
   "source": []
  }
 ],
 "metadata": {
  "kernelspec": {
   "display_name": "climetlab",
   "language": "python",
   "name": "climetlab"
  },
  "language_info": {
   "codemirror_mode": {
    "name": "ipython",
    "version": 3
   },
   "file_extension": ".py",
   "mimetype": "text/x-python",
   "name": "python",
   "nbconvert_exporter": "python",
   "pygments_lexer": "ipython3",
   "version": "3.8.8"
  }
 },
 "nbformat": 4,
 "nbformat_minor": 5
}
